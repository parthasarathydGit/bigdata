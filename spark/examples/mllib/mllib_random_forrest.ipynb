{
 "cells": [
  {
   "cell_type": "code",
   "execution_count": 2,
   "metadata": {},
   "outputs": [],
   "source": [
    "import os\n",
    "import sys\n",
    "\n",
    "\n",
    "# Note that the path to spark home could be different for you. This one is for HortonWorks Data Platform\n",
    "os.environ[\"SPARK_HOME\"] = \"/usr/hdp/current/spark2-client\"\n",
    "os.environ[\"PYLIB\"] = os.environ[\"SPARK_HOME\"] + \"/python/lib\"\n",
    "# In below two lines, use /usr/bin/python2.7 if you want to use Python 2\n",
    "os.environ[\"PYSPARK_PYTHON\"] = \"/usr/local/anaconda/bin/python\"\n",
    "os.environ[\"PYSPARK_DRIVER_PYTHON\"] = \"/usr/local/anaconda/bin/python\"\n",
    "\n",
    "# The version for py4j could be different for you\n",
    "sys.path.insert(0, os.environ[\"PYLIB\"] +\"/py4j-0.10.4-src.zip\")\n",
    "sys.path.insert(0, os.environ[\"PYLIB\"] +\"/pyspark.zip\")\n",
    "\n",
    "# NOTE: Whichever package you want mention here.\n",
    "# os.environ['PYSPARK_SUBMIT_ARGS'] = '--packages com.databricks:spark-xml_2.10:0.4.1 pyspark-shell' \n",
    "# os.environ['PYSPARK_SUBMIT_ARGS'] = '--packages com.databricks:spark-xml_2.11:0.6.0 pyspark-shell'\n",
    "# com.databricks:spark-avro_2.11:3.2.0\n",
    "os.environ['PYSPARK_SUBMIT_ARGS'] = '--packages graphframes:graphframes:0.6.0-spark2.3-s_2.11,com.databricks:spark-xml_2.11:0.6.0,com.databricks:spark-avro_2.11:3.2.0 pyspark-shell'"
   ]
  },
  {
   "cell_type": "code",
   "execution_count": 3,
   "metadata": {},
   "outputs": [],
   "source": [
    "#Entrypoint 2.x\n",
    "from pyspark.sql import SparkSession\n",
    "spark = SparkSession.builder.appName(\"Spark SQL basic example\").enableHiveSupport().getOrCreate()\n",
    "\n",
    "# On yarn:\n",
    "# spark = SparkSession.builder.appName(\"Spark SQL basic example\").enableHiveSupport().master(\"yarn\").getOrCreate()\n",
    "# specify .master(\"yarn\")\n",
    "\n",
    "sc = spark.sparkContext"
   ]
  },
  {
   "cell_type": "markdown",
   "metadata": {},
   "source": [
    "# Remove the unneccessary text"
   ]
  },
  {
   "cell_type": "code",
   "execution_count": 64,
   "metadata": {},
   "outputs": [],
   "source": [
    "lines = sc.textFile(\"/data/loan_stats_3c.csv\")"
   ]
  },
  {
   "cell_type": "code",
   "execution_count": 65,
   "metadata": {},
   "outputs": [],
   "source": [
    "lines1 = lines.filter(lambda line: not (line.startswith('Notes offered by Prospectus') or line.startswith('Total amount funded in policy code') ) )"
   ]
  },
  {
   "cell_type": "code",
   "execution_count": 32,
   "metadata": {},
   "outputs": [
    {
     "data": {
      "text/plain": [
       "['\"id\",\"member_id\",\"loan_amnt\",\"funded_amnt\",\"funded_amnt_inv\",\"term\",\"int_rate\",\"installment\",\"grade\",\"sub_grade\",\"emp_title\",\"emp_length\",\"home_ownership\",\"annual_inc\",\"verification_status\",\"issue_d\",\"loan_status\",\"pymnt_plan\",\"url\",\"desc\",\"purpose\",\"title\",\"zip_code\",\"addr_state\",\"dti\",\"delinq_2yrs\",\"earliest_cr_line\",\"inq_last_6mths\",\"mths_since_last_delinq\",\"mths_since_last_record\",\"open_acc\",\"pub_rec\",\"revol_bal\",\"revol_util\",\"total_acc\",\"initial_list_status\",\"out_prncp\",\"out_prncp_inv\",\"total_pymnt\",\"total_pymnt_inv\",\"total_rec_prncp\",\"total_rec_int\",\"total_rec_late_fee\",\"recoveries\",\"collection_recovery_fee\",\"last_pymnt_d\",\"last_pymnt_amnt\",\"next_pymnt_d\",\"last_credit_pull_d\",\"collections_12_mths_ex_med\",\"mths_since_last_major_derog\",\"policy_code\",\"application_type\",\"annual_inc_joint\",\"dti_joint\",\"verification_status_joint\",\"acc_now_delinq\",\"tot_coll_amt\",\"tot_cur_bal\",\"open_acc_6m\",\"open_act_il\",\"open_il_12m\",\"open_il_24m\",\"mths_since_rcnt_il\",\"total_bal_il\",\"il_util\",\"open_rv_12m\",\"open_rv_24m\",\"max_bal_bc\",\"all_util\",\"total_rev_hi_lim\",\"inq_fi\",\"total_cu_tl\",\"inq_last_12m\",\"acc_open_past_24mths\",\"avg_cur_bal\",\"bc_open_to_buy\",\"bc_util\",\"chargeoff_within_12_mths\",\"delinq_amnt\",\"mo_sin_old_il_acct\",\"mo_sin_old_rev_tl_op\",\"mo_sin_rcnt_rev_tl_op\",\"mo_sin_rcnt_tl\",\"mort_acc\",\"mths_since_recent_bc\",\"mths_since_recent_bc_dlq\",\"mths_since_recent_inq\",\"mths_since_recent_revol_delinq\",\"num_accts_ever_120_pd\",\"num_actv_bc_tl\",\"num_actv_rev_tl\",\"num_bc_sats\",\"num_bc_tl\",\"num_il_tl\",\"num_op_rev_tl\",\"num_rev_accts\",\"num_rev_tl_bal_gt_0\",\"num_sats\",\"num_tl_120dpd_2m\",\"num_tl_30dpd\",\"num_tl_90g_dpd_24m\",\"num_tl_op_past_12m\",\"pct_tl_nvr_dlq\",\"percent_bc_gt_75\",\"pub_rec_bankruptcies\",\"tax_liens\",\"tot_hi_cred_lim\",\"total_bal_ex_mort\",\"total_bc_limit\",\"total_il_high_credit_limit\",\"revol_bal_joint\",\"sec_app_earliest_cr_line\",\"sec_app_inq_last_6mths\",\"sec_app_mort_acc\",\"sec_app_open_acc\",\"sec_app_revol_util\",\"sec_app_open_act_il\",\"sec_app_num_rev_accts\",\"sec_app_chargeoff_within_12_mths\",\"sec_app_collections_12_mths_ex_med\",\"sec_app_mths_since_last_major_derog\",\"hardship_flag\",\"hardship_type\",\"hardship_reason\",\"hardship_status\",\"deferral_term\",\"hardship_amount\",\"hardship_start_date\",\"hardship_end_date\",\"payment_plan_start_date\",\"hardship_length\",\"hardship_dpd\",\"hardship_loan_status\",\"orig_projected_additional_accrued_interest\",\"hardship_payoff_balance_amount\",\"hardship_last_payment_amount\",\"debt_settlement_flag\",\"debt_settlement_flag_date\",\"settlement_status\",\"settlement_date\",\"settlement_amount\",\"settlement_percentage\",\"settlement_term\"']"
      ]
     },
     "execution_count": 32,
     "metadata": {},
     "output_type": "execute_result"
    }
   ],
   "source": [
    "lines1.take(1)"
   ]
  },
  {
   "cell_type": "code",
   "execution_count": 33,
   "metadata": {},
   "outputs": [],
   "source": [
    "lines2 = lines1.repartition(1)"
   ]
  },
  {
   "cell_type": "code",
   "execution_count": 35,
   "metadata": {},
   "outputs": [],
   "source": [
    "lines2.saveAsTextFile('clean_loan_stats_3c.csv', )"
   ]
  },
  {
   "cell_type": "code",
   "execution_count": 36,
   "metadata": {},
   "outputs": [
    {
     "name": "stdout",
     "output_type": "stream",
     "text": [
      "Found 2 items\r\n",
      "-rw-r--r--   3 sandeepgiri9034 sandeepgiri9034          0 2019-09-03 17:39 clean_loan_stats_3c.csv/_SUCCESS\r\n",
      "-rw-r--r--   3 sandeepgiri9034 sandeepgiri9034  186874034 2019-09-03 17:39 clean_loan_stats_3c.csv/part-00000\r\n"
     ]
    }
   ],
   "source": [
    "!hadoop fs -ls clean_loan_stats_3c.csv/"
   ]
  },
  {
   "cell_type": "code",
   "execution_count": 34,
   "metadata": {},
   "outputs": [
    {
     "name": "stdout",
     "output_type": "stream",
     "text": [
      "rmr: DEPRECATED: Please use 'rm -r' instead.\n",
      "19/09/03 17:39:22 INFO fs.TrashPolicyDefault: Moved: 'hdfs://cxln1.c.thelab-240901.internal:8020/user/sandeepgiri9034/clean_loan_stats_3c.csv' to trash at: hdfs://cxln1.c.thelab-240901.internal:8020/user/sandeepgiri9034/.Trash/Current/user/sandeepgiri9034/clean_loan_stats_3c.csv1567532362027\n"
     ]
    }
   ],
   "source": [
    "!hadoop fs -rmr clean_loan_stats_3c.csv/"
   ]
  },
  {
   "cell_type": "code",
   "execution_count": 37,
   "metadata": {},
   "outputs": [
    {
     "name": "stdout",
     "output_type": "stream",
     "text": [
      "\"2\",\"18\",\"0\",\"0\",\"0\",\"0\",\"97.6\",\"100\",\"0\",\"0\",\"96582\",\"73598\",\"8500\",\"83482\",\"\",\"\",\"\",\"\",\"\",\"\",\"\",\"\",\"\",\"\",\"\",\"N\",\"\",\"\",\"\",\"\",\"\",\"\",\"\",\"\",\"\",\"\",\"\",\"\",\"\",\"\",\"N\",\"\",\"\",\"\",\"\",\"\",\"\"\r\n",
      "\"\",\"\",\"10000\",\"10000\",\"9975\",\" 36 months\",\" 19.20%\",\"367.58\",\"D\",\"D3\",\"\",\"10+ years\",\"MORTGAGE\",\"46000\",\"Verified\",\"Jan-2014\",\"Fully Paid\",\"n\",\"\",\"  Borrower added on 12/04/13 > I will like a loan to fix  our cars and paid our house property tax<br>\",\"other\",\"Other\",\"950xx\",\"CA\",\"22.78\",\"1\",\"Feb-2000\",\"0\",\"9\",\"\",\"6\",\"0\",\"11325\",\"70.8%\",\"22\",\"f\",\"0.00\",\"0.00\",\"13232.50333937\",\"13199.42\",\"10000.00\",\"3232.50\",\"0.0\",\"0.0\",\"0.0\",\"Jan-2017\",\"367.2\",\"\",\"Nov-2017\",\"0\",\"\",\"1\",\"Individual\",\"\",\"\",\"\",\"0\",\"0\",\"57477\",\"\",\"\",\"\",\"\",\"\",\"\",\"\",\"\",\"\",\"\",\"\",\"16000\",\"\",\"\",\"\",\"4\",\"11495\",\"2175\",\"83.9\",\"0\",\"0\",\"93\",\"166\",\"4\",\"4\",\"2\",\"4\",\"\",\"13\",\"9\",\"0\",\"2\",\"2\",\"2\",\"11\",\"3\",\"4\",\"17\",\"2\",\"6\",\"0\",\"0\",\"0\",\"2\",\"90.9\",\"50\",\"0\",\"0\",\"81470\",\"57477\",\"13500\",\"65470\",\"\",\"\",\"\",\"\",\"\",\"\",\"\",\"\",\"\",\"\",\"\",\"N\",\"\",\"\",\"\",\"\",\"\",\"\",\"\",\"\",\"\",\"\",\"\",\"\",\"\",\"\",\"N\",\"\",\"\",\"\",\"\",\"\",\"\"\r\n",
      "\r\n",
      "\r\n"
     ]
    }
   ],
   "source": [
    "!hadoop fs -tail clean_loan_stats_3c.csv/part-00000"
   ]
  },
  {
   "cell_type": "markdown",
   "metadata": {},
   "source": [
    "# End of removing the unneccessary text"
   ]
  },
  {
   "cell_type": "code",
   "execution_count": 66,
   "metadata": {},
   "outputs": [],
   "source": [
    "loan_stats = spark.read.csv(\"/data/clean_loan_stats_3c.csv\", header=True, inferSchema=True)"
   ]
  },
  {
   "cell_type": "code",
   "execution_count": 67,
   "metadata": {},
   "outputs": [
    {
     "name": "stdout",
     "output_type": "stream",
     "text": [
      "root\n",
      " |-- id: string (nullable = true)\n",
      " |-- member_id: string (nullable = true)\n",
      " |-- loan_amnt: integer (nullable = true)\n",
      " |-- funded_amnt: integer (nullable = true)\n",
      " |-- funded_amnt_inv: integer (nullable = true)\n",
      " |-- term: string (nullable = true)\n",
      " |-- int_rate: string (nullable = true)\n",
      " |-- installment: double (nullable = true)\n",
      " |-- grade: string (nullable = true)\n",
      " |-- sub_grade: string (nullable = true)\n",
      " |-- emp_title: string (nullable = true)\n",
      " |-- emp_length: string (nullable = true)\n",
      " |-- home_ownership: string (nullable = true)\n",
      " |-- annual_inc: double (nullable = true)\n",
      " |-- verification_status: string (nullable = true)\n",
      " |-- issue_d: string (nullable = true)\n",
      " |-- loan_status: string (nullable = true)\n",
      " |-- pymnt_plan: string (nullable = true)\n",
      " |-- url: string (nullable = true)\n",
      " |-- desc: string (nullable = true)\n",
      " |-- purpose: string (nullable = true)\n",
      " |-- title: string (nullable = true)\n",
      " |-- zip_code: string (nullable = true)\n",
      " |-- addr_state: string (nullable = true)\n",
      " |-- dti: double (nullable = true)\n",
      " |-- delinq_2yrs: integer (nullable = true)\n",
      " |-- earliest_cr_line: string (nullable = true)\n",
      " |-- inq_last_6mths: integer (nullable = true)\n",
      " |-- mths_since_last_delinq: integer (nullable = true)\n",
      " |-- mths_since_last_record: integer (nullable = true)\n",
      " |-- open_acc: integer (nullable = true)\n",
      " |-- pub_rec: integer (nullable = true)\n",
      " |-- revol_bal: integer (nullable = true)\n",
      " |-- revol_util: string (nullable = true)\n",
      " |-- total_acc: integer (nullable = true)\n",
      " |-- initial_list_status: string (nullable = true)\n",
      " |-- out_prncp: double (nullable = true)\n",
      " |-- out_prncp_inv: double (nullable = true)\n",
      " |-- total_pymnt: double (nullable = true)\n",
      " |-- total_pymnt_inv: double (nullable = true)\n",
      " |-- total_rec_prncp: double (nullable = true)\n",
      " |-- total_rec_int: double (nullable = true)\n",
      " |-- total_rec_late_fee: double (nullable = true)\n",
      " |-- recoveries: double (nullable = true)\n",
      " |-- collection_recovery_fee: double (nullable = true)\n",
      " |-- last_pymnt_d: string (nullable = true)\n",
      " |-- last_pymnt_amnt: double (nullable = true)\n",
      " |-- next_pymnt_d: string (nullable = true)\n",
      " |-- last_credit_pull_d: string (nullable = true)\n",
      " |-- collections_12_mths_ex_med: integer (nullable = true)\n",
      " |-- mths_since_last_major_derog: integer (nullable = true)\n",
      " |-- policy_code: integer (nullable = true)\n",
      " |-- application_type: string (nullable = true)\n",
      " |-- annual_inc_joint: string (nullable = true)\n",
      " |-- dti_joint: string (nullable = true)\n",
      " |-- verification_status_joint: string (nullable = true)\n",
      " |-- acc_now_delinq: integer (nullable = true)\n",
      " |-- tot_coll_amt: integer (nullable = true)\n",
      " |-- tot_cur_bal: integer (nullable = true)\n",
      " |-- open_acc_6m: string (nullable = true)\n",
      " |-- open_act_il: string (nullable = true)\n",
      " |-- open_il_12m: string (nullable = true)\n",
      " |-- open_il_24m: string (nullable = true)\n",
      " |-- mths_since_rcnt_il: string (nullable = true)\n",
      " |-- total_bal_il: string (nullable = true)\n",
      " |-- il_util: string (nullable = true)\n",
      " |-- open_rv_12m: string (nullable = true)\n",
      " |-- open_rv_24m: string (nullable = true)\n",
      " |-- max_bal_bc: string (nullable = true)\n",
      " |-- all_util: string (nullable = true)\n",
      " |-- total_rev_hi_lim: integer (nullable = true)\n",
      " |-- inq_fi: string (nullable = true)\n",
      " |-- total_cu_tl: string (nullable = true)\n",
      " |-- inq_last_12m: string (nullable = true)\n",
      " |-- acc_open_past_24mths: integer (nullable = true)\n",
      " |-- avg_cur_bal: integer (nullable = true)\n",
      " |-- bc_open_to_buy: integer (nullable = true)\n",
      " |-- bc_util: double (nullable = true)\n",
      " |-- chargeoff_within_12_mths: integer (nullable = true)\n",
      " |-- delinq_amnt: integer (nullable = true)\n",
      " |-- mo_sin_old_il_acct: integer (nullable = true)\n",
      " |-- mo_sin_old_rev_tl_op: integer (nullable = true)\n",
      " |-- mo_sin_rcnt_rev_tl_op: integer (nullable = true)\n",
      " |-- mo_sin_rcnt_tl: integer (nullable = true)\n",
      " |-- mort_acc: integer (nullable = true)\n",
      " |-- mths_since_recent_bc: integer (nullable = true)\n",
      " |-- mths_since_recent_bc_dlq: integer (nullable = true)\n",
      " |-- mths_since_recent_inq: integer (nullable = true)\n",
      " |-- mths_since_recent_revol_delinq: integer (nullable = true)\n",
      " |-- num_accts_ever_120_pd: integer (nullable = true)\n",
      " |-- num_actv_bc_tl: integer (nullable = true)\n",
      " |-- num_actv_rev_tl: integer (nullable = true)\n",
      " |-- num_bc_sats: integer (nullable = true)\n",
      " |-- num_bc_tl: integer (nullable = true)\n",
      " |-- num_il_tl: integer (nullable = true)\n",
      " |-- num_op_rev_tl: integer (nullable = true)\n",
      " |-- num_rev_accts: integer (nullable = true)\n",
      " |-- num_rev_tl_bal_gt_0: integer (nullable = true)\n",
      " |-- num_sats: integer (nullable = true)\n",
      " |-- num_tl_120dpd_2m: integer (nullable = true)\n",
      " |-- num_tl_30dpd: integer (nullable = true)\n",
      " |-- num_tl_90g_dpd_24m: integer (nullable = true)\n",
      " |-- num_tl_op_past_12m: integer (nullable = true)\n",
      " |-- pct_tl_nvr_dlq: double (nullable = true)\n",
      " |-- percent_bc_gt_75: double (nullable = true)\n",
      " |-- pub_rec_bankruptcies: integer (nullable = true)\n",
      " |-- tax_liens: integer (nullable = true)\n",
      " |-- tot_hi_cred_lim: integer (nullable = true)\n",
      " |-- total_bal_ex_mort: integer (nullable = true)\n",
      " |-- total_bc_limit: integer (nullable = true)\n",
      " |-- total_il_high_credit_limit: integer (nullable = true)\n",
      " |-- revol_bal_joint: string (nullable = true)\n",
      " |-- sec_app_earliest_cr_line: string (nullable = true)\n",
      " |-- sec_app_inq_last_6mths: string (nullable = true)\n",
      " |-- sec_app_mort_acc: string (nullable = true)\n",
      " |-- sec_app_open_acc: string (nullable = true)\n",
      " |-- sec_app_revol_util: string (nullable = true)\n",
      " |-- sec_app_open_act_il: string (nullable = true)\n",
      " |-- sec_app_num_rev_accts: string (nullable = true)\n",
      " |-- sec_app_chargeoff_within_12_mths: string (nullable = true)\n",
      " |-- sec_app_collections_12_mths_ex_med: string (nullable = true)\n",
      " |-- sec_app_mths_since_last_major_derog: string (nullable = true)\n",
      " |-- hardship_flag: string (nullable = true)\n",
      " |-- hardship_type: string (nullable = true)\n",
      " |-- hardship_reason: string (nullable = true)\n",
      " |-- hardship_status: string (nullable = true)\n",
      " |-- deferral_term: integer (nullable = true)\n",
      " |-- hardship_amount: double (nullable = true)\n",
      " |-- hardship_start_date: string (nullable = true)\n",
      " |-- hardship_end_date: string (nullable = true)\n",
      " |-- payment_plan_start_date: string (nullable = true)\n",
      " |-- hardship_length: integer (nullable = true)\n",
      " |-- hardship_dpd: integer (nullable = true)\n",
      " |-- hardship_loan_status: string (nullable = true)\n",
      " |-- orig_projected_additional_accrued_interest: double (nullable = true)\n",
      " |-- hardship_payoff_balance_amount: double (nullable = true)\n",
      " |-- hardship_last_payment_amount: double (nullable = true)\n",
      " |-- debt_settlement_flag: string (nullable = true)\n",
      " |-- debt_settlement_flag_date: string (nullable = true)\n",
      " |-- settlement_status: string (nullable = true)\n",
      " |-- settlement_date: string (nullable = true)\n",
      " |-- settlement_amount: double (nullable = true)\n",
      " |-- settlement_percentage: double (nullable = true)\n",
      " |-- settlement_term: integer (nullable = true)\n",
      "\n"
     ]
    }
   ],
   "source": [
    "loan_stats.printSchema()"
   ]
  },
  {
   "cell_type": "code",
   "execution_count": 6,
   "metadata": {},
   "outputs": [
    {
     "name": "stdout",
     "output_type": "stream",
     "text": [
      "+----+---------+---------+-----------+---------------+----------+--------+-----------+-----+---------+--------------------+----------+--------------+----------+-------------------+--------+-----------+----------+----+----+------------------+--------------------+--------+----------+-----+-----------+----------------+--------------+----------------------+----------------------+--------+-------+---------+----------+---------+-------------------+---------+-------------+----------------+---------------+---------------+-------------+------------------+----------+-----------------------+------------+---------------+------------+------------------+--------------------------+---------------------------+-----------+----------------+----------------+---------+-------------------------+--------------+------------+-----------+-----------+-----------+-----------+-----------+------------------+------------+-------+-----------+-----------+----------+--------+----------------+------+-----------+------------+--------------------+-----------+--------------+-------+------------------------+-----------+------------------+--------------------+---------------------+--------------+--------+--------------------+------------------------+---------------------+------------------------------+---------------------+--------------+---------------+-----------+---------+---------+-------------+-------------+-------------------+--------+----------------+------------+------------------+------------------+--------------+----------------+--------------------+---------+---------------+-----------------+--------------+--------------------------+---------------+------------------------+----------------------+----------------+----------------+------------------+-------------------+---------------------+--------------------------------+----------------------------------+-----------------------------------+-------------+-------------+---------------+---------------+-------------+---------------+-------------------+-----------------+-----------------------+---------------+------------+--------------------+------------------------------------------+------------------------------+----------------------------+--------------------+-------------------------+-----------------+---------------+-----------------+---------------------+---------------+\n",
      "|  id|member_id|loan_amnt|funded_amnt|funded_amnt_inv|      term|int_rate|installment|grade|sub_grade|           emp_title|emp_length|home_ownership|annual_inc|verification_status| issue_d|loan_status|pymnt_plan| url|desc|           purpose|               title|zip_code|addr_state|  dti|delinq_2yrs|earliest_cr_line|inq_last_6mths|mths_since_last_delinq|mths_since_last_record|open_acc|pub_rec|revol_bal|revol_util|total_acc|initial_list_status|out_prncp|out_prncp_inv|     total_pymnt|total_pymnt_inv|total_rec_prncp|total_rec_int|total_rec_late_fee|recoveries|collection_recovery_fee|last_pymnt_d|last_pymnt_amnt|next_pymnt_d|last_credit_pull_d|collections_12_mths_ex_med|mths_since_last_major_derog|policy_code|application_type|annual_inc_joint|dti_joint|verification_status_joint|acc_now_delinq|tot_coll_amt|tot_cur_bal|open_acc_6m|open_act_il|open_il_12m|open_il_24m|mths_since_rcnt_il|total_bal_il|il_util|open_rv_12m|open_rv_24m|max_bal_bc|all_util|total_rev_hi_lim|inq_fi|total_cu_tl|inq_last_12m|acc_open_past_24mths|avg_cur_bal|bc_open_to_buy|bc_util|chargeoff_within_12_mths|delinq_amnt|mo_sin_old_il_acct|mo_sin_old_rev_tl_op|mo_sin_rcnt_rev_tl_op|mo_sin_rcnt_tl|mort_acc|mths_since_recent_bc|mths_since_recent_bc_dlq|mths_since_recent_inq|mths_since_recent_revol_delinq|num_accts_ever_120_pd|num_actv_bc_tl|num_actv_rev_tl|num_bc_sats|num_bc_tl|num_il_tl|num_op_rev_tl|num_rev_accts|num_rev_tl_bal_gt_0|num_sats|num_tl_120dpd_2m|num_tl_30dpd|num_tl_90g_dpd_24m|num_tl_op_past_12m|pct_tl_nvr_dlq|percent_bc_gt_75|pub_rec_bankruptcies|tax_liens|tot_hi_cred_lim|total_bal_ex_mort|total_bc_limit|total_il_high_credit_limit|revol_bal_joint|sec_app_earliest_cr_line|sec_app_inq_last_6mths|sec_app_mort_acc|sec_app_open_acc|sec_app_revol_util|sec_app_open_act_il|sec_app_num_rev_accts|sec_app_chargeoff_within_12_mths|sec_app_collections_12_mths_ex_med|sec_app_mths_since_last_major_derog|hardship_flag|hardship_type|hardship_reason|hardship_status|deferral_term|hardship_amount|hardship_start_date|hardship_end_date|payment_plan_start_date|hardship_length|hardship_dpd|hardship_loan_status|orig_projected_additional_accrued_interest|hardship_payoff_balance_amount|hardship_last_payment_amount|debt_settlement_flag|debt_settlement_flag_date|settlement_status|settlement_date|settlement_amount|settlement_percentage|settlement_term|\n",
      "+----+---------+---------+-----------+---------------+----------+--------+-----------+-----+---------+--------------------+----------+--------------+----------+-------------------+--------+-----------+----------+----+----+------------------+--------------------+--------+----------+-----+-----------+----------------+--------------+----------------------+----------------------+--------+-------+---------+----------+---------+-------------------+---------+-------------+----------------+---------------+---------------+-------------+------------------+----------+-----------------------+------------+---------------+------------+------------------+--------------------------+---------------------------+-----------+----------------+----------------+---------+-------------------------+--------------+------------+-----------+-----------+-----------+-----------+-----------+------------------+------------+-------+-----------+-----------+----------+--------+----------------+------+-----------+------------+--------------------+-----------+--------------+-------+------------------------+-----------+------------------+--------------------+---------------------+--------------+--------+--------------------+------------------------+---------------------+------------------------------+---------------------+--------------+---------------+-----------+---------+---------+-------------+-------------+-------------------+--------+----------------+------------+------------------+------------------+--------------+----------------+--------------------+---------+---------------+-----------------+--------------+--------------------------+---------------+------------------------+----------------------+----------------+----------------+------------------+-------------------+---------------------+--------------------------------+----------------------------------+-----------------------------------+-------------+-------------+---------------+---------------+-------------+---------------+-------------------+-----------------+-----------------------+---------------+------------+--------------------+------------------------------------------+------------------------------+----------------------------+--------------------+-------------------------+-----------------+---------------+-----------------+---------------------+---------------+\n",
      "|null|     null|    10400|      10400|          10400| 36 months|   6.99%|     321.08|    A|       A3|Truck Driver Deli...|   8 years|      MORTGAGE|   58000.0|       Not Verified|Dec-2014|Charged Off|         n|null|null|       credit_card|Credit card refin...|   937xx|        CA|14.92|          0|        Sep-1989|             2|                    42|                  null|      17|      0|     6133|     31.6%|       36|                  w|      0.0|          0.0|         6611.69|        6611.69|        5217.75|       872.67|               0.0|    521.27|                93.8286|    Aug-2016|         321.08|        null|          Feb-2017|                         0|                         59|          1|      Individual|            null|     null|                     null|             0|           0|     162110|       null|       null|       null|       null|              null|        null|   null|       null|       null|      null|    null|           19400|  null|       null|        null|                   7|       9536|          7599|   41.5|                       0|          0|                76|                 290|                    1|             1|       1|                   5|                      42|                    1|                            42|                    4|             6|              9|          7|       18|        2|           14|           32|                  9|      17|               0|           0|                 0|                 4|          83.3|            14.3|                   0|        0|         179407|            15030|         13000|                     11325|           null|                    null|                  null|            null|            null|              null|               null|                 null|                            null|                              null|                               null|            N|         null|           null|           null|         null|           null|               null|             null|                   null|           null|        null|                null|                                      null|                          null|                        null|                   N|                     null|             null|           null|             null|                 null|           null|\n",
      "|null|     null|    15000|      15000|          15000| 60 months|  12.39%|     336.64|    C|       C1|          MANAGEMENT| 10+ years|          RENT|   78000.0|    Source Verified|Dec-2014| Fully Paid|         n|null|null|debt_consolidation|  Debt consolidation|   235xx|        VA|12.03|          0|        Aug-1994|             0|                  null|                  null|       6|      0|   138008|       29%|       17|                  w|      0.0|          0.0|        17392.37|       17392.37|        15000.0|      2392.37|               0.0|       0.0|                    0.0|    Jun-2016|       12017.81|        null|          Feb-2019|                         0|                       null|          1|      Individual|            null|     null|                     null|             0|           0|     149140|       null|       null|       null|       null|              null|        null|   null|       null|       null|      null|    null|          184500|  null|       null|        null|                   5|      29828|          9525|    4.7|                       0|          0|               103|                 244|                    1|             1|       0|                  47|                    null|                 null|                          null|                    0|             1|              4|          1|        2|        8|            5|            9|                  4|       6|               0|           0|                 0|                 4|         100.0|             0.0|                   0|        0|         196500|           149140|         10000|                     12000|           null|                    null|                  null|            null|            null|              null|               null|                 null|                            null|                              null|                               null|            N|         null|           null|           null|         null|           null|               null|             null|                   null|           null|        null|                null|                                      null|                          null|                        null|                   N|                     null|             null|           null|             null|                 null|           null|\n",
      "|null|     null|     9600|       9600|           9600| 36 months|  13.66%|     326.53|    C|       C3|    Admin Specialist| 10+ years|          RENT|   69000.0|    Source Verified|Dec-2014| Fully Paid|         n|null|null|debt_consolidation|  Debt consolidation|   077xx|        NJ|25.81|          0|        Nov-1992|             0|                  null|                  null|      12|      0|    16388|     59.4%|       44|                  f|      0.0|          0.0|         9973.43|        9973.43|         9600.0|       373.43|               0.0|       0.0|                    0.0|    Apr-2015|        9338.58|        null|          Jan-2019|                         0|                       null|          1|      Individual|            null|     null|                     null|             0|           0|      38566|       null|       null|       null|       null|              null|        null|   null|       null|       null|      null|    null|           27600|  null|       null|        null|                   8|       3214|          6494|   69.2|                       0|          0|               183|                 265|                   23|             3|       0|                  24|                    null|                   17|                          null|                    0|             4|              7|          5|       16|       17|            8|           26|                  7|      12|               0|           0|                 0|                 3|         100.0|            60.0|                   0|        0|          52490|            38566|         21100|                     24890|           null|                    null|                  null|            null|            null|              null|               null|                 null|                            null|                              null|                               null|            N|         null|           null|           null|         null|           null|               null|             null|                   null|           null|        null|                null|                                      null|                          null|                        null|                   N|                     null|             null|           null|             null|                 null|           null|\n",
      "|null|     null|     7650|       7650|           7650| 36 months|  13.66%|      260.2|    C|       C3|Technical Specialist|  < 1 year|          RENT|   50000.0|    Source Verified|Dec-2014|Charged Off|         n|null|null|debt_consolidation|  Debt consolidation|   850xx|        AZ|34.81|          0|        Aug-2002|             1|                  null|                  null|      11|      0|    16822|     91.9%|       20|                  f|      0.0|          0.0|         2281.98|        2281.98|         704.38|       339.61|               0.0|   1237.99|         222.8382000029|    Aug-2015|           17.7|        null|          Oct-2016|                         0|                       null|          1|      Individual|            null|     null|                     null|             0|           0|      64426|       null|       null|       null|       null|              null|        null|   null|       null|       null|      null|    null|           18300|  null|       null|        null|                   6|       5857|           332|   93.2|                       0|          0|               137|                 148|                    8|             8|       0|                  17|                    null|                    3|                          null|                    0|             1|              4|          1|        4|       12|            4|            8|                  4|      11|               0|           0|                 0|                 2|         100.0|           100.0|                   0|        0|          82331|            64426|          4900|                     64031|           null|                    null|                  null|            null|            null|              null|               null|                 null|                            null|                              null|                               null|            N|         null|           null|           null|         null|           null|               null|             null|                   null|           null|        null|                null|                                      null|                          null|                        null|                   N|                     null|             null|           null|             null|                 null|           null|\n",
      "|null|     null|    12800|      12800|          12800| 60 months|  17.14%|     319.08|    D|       D4|Senior Sales Prof...| 10+ years|      MORTGAGE|  125000.0|           Verified|Dec-2014|    Current|         n|null|null|               car|       Car financing|   953xx|        CA| 8.31|          1|        Oct-2000|             0|                    17|                  null|       8|      0|     5753|    100.9%|       13|                  w|  2692.01|      2692.01|        16312.95|       16312.95|       10107.99|      6204.96|               0.0|       0.0|                    0.0|    Apr-2019|         319.08|    May-2019|          Apr-2019|                         0|                         36|          1|      Individual|            null|     null|                     null|             0|           0|     261815|       null|       null|       null|       null|              null|        null|   null|       null|       null|      null|    null|            5700|  null|       null|        null|                   2|      32727|             0|  103.2|                       0|          0|                16|                 170|                   21|            16|       5|                  21|                      17|                    1|                            17|                    1|             3|              5|          3|        5|        1|            5|            7|                  5|       8|               0|           0|                 0|                 0|          76.9|           100.0|                   0|        0|         368700|            18007|          4400|                     18000|           null|                    null|                  null|            null|            null|              null|               null|                 null|                            null|                              null|                               null|            N|         null|           null|           null|         null|           null|               null|             null|                   null|           null|        null|                null|                                      null|                          null|                        null|                   N|                     null|             null|           null|             null|                 null|           null|\n",
      "|null|     null|    21425|      21425|          21425| 60 months|  15.59%|     516.36|    D|       D1|Programming Analy...|   6 years|          RENT|   63800.0|    Source Verified|Dec-2014| Fully Paid|         n|null|null|       credit_card|Credit card refin...|   658xx|        MO|18.49|          0|        Aug-2003|             0|                    60|                  null|      10|      0|    16374|     76.2%|       35|                  w|      0.0|          0.0|         25512.2|        25512.2|        21425.0|       4087.2|               0.0|       0.0|                    0.0|    May-2016|       17813.19|        null|          Apr-2018|                         0|                         74|          1|      Individual|            null|     null|                     null|             0|           0|      42315|       null|       null|       null|       null|              null|        null|   null|       null|       null|      null|    null|           21500|  null|       null|        null|                   4|       4232|           324|   97.8|                       0|          0|               135|                 136|                    7|             7|       0|                   7|                      60|                    7|                            60|                    1|             3|              4|          3|       12|       16|            5|           18|                  4|      10|               0|           0|                 0|                 2|          91.4|           100.0|                   0|        0|          57073|            42315|         15000|                     35573|           null|                    null|                  null|            null|            null|              null|               null|                 null|                            null|                              null|                               null|            N|         null|           null|           null|         null|           null|               null|             null|                   null|           null|        null|                null|                                      null|                          null|                        null|                   N|                     null|             null|           null|             null|                 null|           null|\n",
      "|null|     null|    17000|      17000|          17000| 36 months|  13.66%|     578.22|    C|       C3|      Deputy sheriff| 10+ years|      MORTGAGE|   75000.0|           Verified|Dec-2014| Fully Paid|         n|null|null|debt_consolidation|  Debt consolidation|   144xx|        NY|23.63|          0|        Jan-2001|             0|                    46|                  null|       7|      0|     5063|     46.4%|       31|                  f|      0.0|          0.0|19562.3100009534|       19562.31|        17000.0|      2562.31|               0.0|       0.0|                    0.0|    May-2016|       10888.01|        null|          Nov-2018|                         0|                         51|          1|      Individual|            null|     null|                     null|             0|           0|     122193|       null|       null|       null|       null|              null|        null|   null|       null|       null|      null|    null|           10900|  null|       null|        null|                   2|      17456|            71|   98.2|                       0|          0|                93|                 167|                   21|            10|       2|                  27|                      46|                 null|                            46|                    2|             1|              3|          1|        7|        4|            4|           25|                  3|       7|               0|           0|                 0|                 1|          87.1|           100.0|                   0|        0|         147270|            36205|          4000|                     41370|           null|                    null|                  null|            null|            null|              null|               null|                 null|                            null|                              null|                               null|            N|         null|           null|           null|         null|           null|               null|             null|                   null|           null|        null|                null|                                      null|                          null|                        null|                   N|                     null|             null|           null|             null|                 null|           null|\n",
      "|null|     null|    23325|      23325|          23325| 36 months|  14.31%|     800.71|    C|       C4|             Teacher| 10+ years|          RENT|   72000.0|    Source Verified|Dec-2014|Charged Off|         n|null|null|       credit_card|Credit card refin...|   982xx|        WA|27.03|          1|        Oct-1998|             0|                     1|                  null|      14|      0|    32372|     82.2%|       23|                  f|      0.0|          0.0|        13907.79|       13907.79|        7301.23|      3061.64|               0.0|   3544.92|               638.0856|    Feb-2016|         800.71|        null|          Oct-2016|                         0|                       null|          1|      Individual|            null|     null|                     null|             0|           0|     393558|       null|       null|       null|       null|              null|        null|   null|       null|       null|      null|    null|           39400|  null|       null|        null|                   6|      39356|          3977|   89.0|                       0|          0|               132|                 194|                   15|            12|       6|                  23|                    null|                   16|                             1|                    0|             3|              5|          7|        9|        4|           10|           13|                  5|      14|               0|           0|                 0|                 1|          95.7|            66.7|                   0|        0|         443889|            79490|         36000|                     78126|           null|                    null|                  null|            null|            null|              null|               null|                 null|                            null|                              null|                               null|            N|         null|           null|           null|         null|           null|               null|             null|                   null|           null|        null|                null|                                      null|                          null|                        null|                   N|                     null|             null|           null|             null|                 null|           null|\n",
      "|null|     null|     2500|       2500|           2500| 36 months|  11.99%|      83.03|    B|       B5|Manufacturing Eng...|  < 1 year|      MORTGAGE|   89000.0|    Source Verified|Dec-2014| Fully Paid|         n|null|null|  home_improvement|    Home improvement|   554xx|        MN|13.77|          0|        Oct-2001|             1|                    55|                  null|       9|      0|    22908|     94.3%|       32|                  f|      0.0|          0.0|         2622.22|        2622.22|         2500.0|       122.22|               0.0|       0.0|                    0.0|    Jun-2015|        2294.26|        null|          Apr-2019|                         0|                       null|          1|      Individual|            null|     null|                     null|             0|           0|     397223|       null|       null|       null|       null|              null|        null|   null|       null|       null|      null|    null|           24300|  null|       null|        null|                   6|      44136|          1333|   86.4|                       0|          0|               158|                 148|                   24|             6|       5|                  24|                    null|                    2|                          null|                    0|             3|              4|          3|        6|       17|            4|           10|                  4|       9|               0|           0|                 0|                 1|          96.8|            66.7|                   0|        0|         415290|            61606|          9800|                     47946|           null|                    null|                  null|            null|            null|              null|               null|                 null|                            null|                              null|                               null|            N|         null|           null|           null|         null|           null|               null|             null|                   null|           null|        null|                null|                                      null|                          null|                        null|                   N|                     null|             null|           null|             null|                 null|           null|\n",
      "|null|     null|    12975|      12975|          12975| 36 months|  17.86%|     468.17|    D|       D5|               Sales| 10+ years|          RENT|   60000.0|    Source Verified|Dec-2014|Charged Off|         n|null|null|             house|         Home buying|   331xx|        FL|22.42|          0|        Jan-1999|             0|                    48|                  null|      11|      0|     5200|     33.1%|       19|                  f|      0.0|          0.0|         5746.89|        5746.89|        2628.14|       1603.2|               0.0|   1515.55|         272.7990000001|    Mar-2016|           50.0|        null|          Oct-2016|                         0|                       null|          1|      Individual|            null|     null|                     null|             0|         900|      17281|       null|       null|       null|       null|              null|        null|   null|       null|       null|      null|    null|           15700|  null|       null|        null|                   7|       1571|          2604|   52.7|                       0|          0|               191|                 122|                    2|             2|       0|                   6|                    null|                    1|                          null|                    0|             3|              8|          3|        6|        6|            9|           13|                  8|      11|               0|           0|                 0|                 4|          89.5|             0.0|                   0|        0|          42943|            17281|          5500|                     27243|           null|                    null|                  null|            null|            null|              null|               null|                 null|                            null|                              null|                               null|            N|         null|           null|           null|         null|           null|               null|             null|                   null|           null|        null|                null|                                      null|                          null|                        null|                   N|                     null|             null|           null|             null|                 null|           null|\n",
      "|null|     null|     5250|       5250|           5250| 36 months|  11.44%|     172.98|    B|       B4|       Store Manager|   2 years|          RENT|   26000.0|       Not Verified|Dec-2014| Fully Paid|         n|null|null|debt_consolidation|  Debt consolidation|   208xx|        MD|14.36|          0|        May-2009|             0|                  null|                  null|       8|      0|     4448|     20.2%|       13|                  f|      0.0|          0.0|         5431.68|        5431.68|         5250.0|       181.68|               0.0|       0.0|                    0.0|    May-2015|           43.4|        null|          Apr-2015|                         0|                       null|          1|      Individual|            null|     null|                     null|             0|           0|      10133|       null|       null|       null|       null|              null|        null|   null|       null|       null|      null|    null|           22000|  null|       null|        null|                   4|       1267|         12152|   26.8|                       0|          0|                33|                  67|                   12|             6|       0|                  16|                    null|                 null|                          null|                    0|             2|              2|          3|        4|        3|            6|            9|                  2|       8|               0|           0|                 0|                 2|         100.0|             0.0|                   0|        0|          29971|            10133|         16600|                      6000|           null|                    null|                  null|            null|            null|              null|               null|                 null|                            null|                              null|                               null|            N|         null|           null|           null|         null|           null|               null|             null|                   null|           null|        null|                null|                                      null|                          null|                        null|                   N|                     null|             null|           null|             null|                 null|           null|\n",
      "|null|     null|    16000|      16000|          16000| 60 months|  11.44%|      351.4|    B|       B4|Foreign Service O...|   6 years|           OWN|  109777.0|           Verified|Dec-2014| Fully Paid|         n|null|null|debt_consolidation|  Debt consolidation|   201xx|        VA|11.63|          1|        Nov-2003|             0|                    12|                  null|       7|      0|     7253|     60.4%|       14|                  w|      0.0|          0.0|        18586.72|       18586.72|        16000.0|      2586.72|               0.0|       0.0|                    0.0|    Sep-2016|        4935.54|        null|          Oct-2016|                         0|                       null|          1|      Individual|            null|     null|                     null|             0|           0|     373743|       null|       null|       null|       null|              null|        null|   null|       null|       null|      null|    null|           12000|  null|       null|        null|                   3|      53392|          2559|   72.2|                       0|          0|               121|                 133|                   17|            17|       2|                  80|                      33|                   17|                            33|                    0|             2|              3|          3|        6|        2|            5|           10|                  3|       7|               0|           0|                 0|                 0|          71.4|            66.7|                   0|        0|         428032|            34475|          9200|                     33000|           null|                    null|                  null|            null|            null|              null|               null|                 null|                            null|                              null|                               null|            N|         null|           null|           null|         null|           null|               null|             null|                   null|           null|        null|                null|                                      null|                          null|                        null|                   N|                     null|             null|           null|             null|                 null|           null|\n",
      "|null|     null|    10000|      10000|          10000| 36 months|  11.99%|      332.1|    B|       B5|Investment Consul...|   8 years|          RENT|   90000.0|           Verified|Dec-2014|Charged Off|         n|null|null|debt_consolidation|  Debt consolidation|   483xx|        MI| 8.44|          0|        Jul-2003|             1|                  null|                  null|       5|      0|    23723|       98%|       10|                  f|      0.0|          0.0|         6957.45|        6957.45|        5395.29|      1562.16|               0.0|       0.0|                    0.0|    Oct-2016|          332.1|        null|          Aug-2017|                         0|                       null|          1|      Individual|            null|     null|                     null|             0|           0|      23723|       null|       null|       null|       null|              null|        null|   null|       null|       null|      null|    null|           24200|  null|       null|        null|                   0|       4745|           324|   98.5|                       0|          0|               137|                 124|                   40|            31|       0|                  42|                    null|                    3|                          null|                    0|             4|              5|          4|        6|        2|            5|            8|                  5|       5|               0|           0|                 0|                 0|         100.0|           100.0|                   0|        0|          24200|            23723|         21200|                         0|           null|                    null|                  null|            null|            null|              null|               null|                 null|                            null|                              null|                               null|            N|         null|           null|           null|         null|           null|               null|             null|                   null|           null|        null|                null|                                      null|                          null|                        null|                   N|                     null|             null|           null|             null|                 null|           null|\n",
      "|null|     null|    21075|      21075|          21075| 60 months|  21.99%|     581.95|    E|       E5|           Paralegal| 10+ years|      MORTGAGE|   55000.0|    Source Verified|Dec-2014|    Current|         n|null|null|debt_consolidation|  Debt consolidation|   606xx|        IL| 29.5|          0|        Nov-1987|             0|                    26|                  null|      14|      0|    15955|     88.6%|       21|                  f|   4788.1|       4788.1|        29615.08|       29615.08|        16286.9|     13328.18|               0.0|       0.0|                    0.0|    Apr-2019|         581.95|    Apr-2019|          Apr-2019|                         0|                       null|          1|      Individual|            null|     null|                     null|             0|           0|     262274|       null|       null|       null|       null|              null|        null|   null|       null|       null|      null|    null|           18000|  null|       null|        null|                   0|      20175|          1468|   91.0|                       0|          0|               160|                 205|                   30|            30|       1|                  30|                      26|                   10|                            26|                    2|             3|              4|          3|        6|        7|            5|           11|                  4|      14|               0|           0|                 0|                 0|          76.2|           100.0|                   0|        0|         300308|            62443|         16300|                     55441|           null|                    null|                  null|            null|            null|              null|               null|                 null|                            null|                              null|                               null|            N|         null|           null|           null|         null|           null|               null|             null|                   null|           null|        null|                null|                                      null|                          null|                        null|                   N|                     null|             null|           null|             null|                 null|           null|\n",
      "|null|     null|     2000|       2000|           2000| 36 months|  15.99%|      70.31|    D|       D2|Student Services ...|   7 years|          RENT|   37000.0|       Not Verified|Dec-2014| Fully Paid|         n|null|null|             other|               Other|   852xx|        AZ|16.19|          2|        Dec-1993|             1|                     5|                  null|       9|      0|     4533|     20.1%|       22|                  f|      0.0|          0.0| 2375.9500000048|        2375.95|         2000.0|       375.95|               0.0|       0.0|                    0.0|    Jun-2016|        1255.43|        null|          Jun-2016|                         0|                       null|          1|      Individual|            null|     null|                     null|             0|           0|      19342|       null|       null|       null|       null|              null|        null|   null|       null|       null|      null|    null|           22500|  null|       null|        null|                   6|       2149|           390|   90.2|                       0|          0|               136|                 252|                    3|             3|       0|                   3|                       9|                    3|                             5|                    0|             1|              2|          1|        6|        7|            8|           15|                  2|       9|               0|           0|                 0|                 3|          90.9|           100.0|                   0|        0|          43137|            19342|          4000|                     20637|           null|                    null|                  null|            null|            null|              null|               null|                 null|                            null|                              null|                               null|            N|         null|           null|           null|         null|           null|               null|             null|                   null|           null|        null|                null|                                      null|                          null|                        null|                   N|                     null|             null|           null|             null|                 null|           null|\n",
      "|null|     null|     6000|       6000|           6000| 36 months|  10.49%|     194.99|    B|       B3|   Assistant manager| 10+ years|      MORTGAGE|  120000.0|       Not Verified|Dec-2014| Fully Paid|         n|null|null|  home_improvement|    Home improvement|   403xx|        KY| 6.87|          3|        Jul-1989|             0|                     9|                  null|      11|      0|    49626|     82.6%|       48|                  f|      0.0|          0.0| 6839.3025233141|         6839.3|         6000.0|        839.3|               0.0|       0.0|                    0.0|    Apr-2017|          578.3|        null|          Jul-2018|                         0|                       null|          1|      Individual|            null|     null|                     null|             0|           0|     361379|       null|       null|       null|       null|              null|        null|   null|       null|       null|      null|    null|           60100|  null|       null|        null|                   5|      40153|          1092|   95.4|                       0|          0|               129|                 305|                   15|            14|       5|                  15|                      12|                    2|                            12|                    0|             4|              8|          4|        9|       25|           10|           18|                  8|      11|               0|           0|                 0|                 0|          93.6|           100.0|                   0|        0|         376700|            49626|         23600|                         0|           null|                    null|                  null|            null|            null|              null|               null|                 null|                            null|                              null|                               null|            N|         null|           null|           null|         null|           null|               null|             null|                   null|           null|        null|                null|                                      null|                          null|                        null|                   N|                     null|             null|           null|             null|                 null|           null|\n",
      "|null|     null|     3000|       3000|           3000| 36 months|  10.49%|       97.5|    B|       B3|Respiratory Thera...|   9 years|          RENT|   60000.0|       Not Verified|Dec-2014| Fully Paid|         n|null|null|           medical|    Medical expenses|   926xx|        CA| 9.54|          0|        Jun-1995|             0|                    77|                  null|       7|      0|     4936|     42.6%|       18|                  f|      0.0|          0.0| 3453.2606034891|        3453.26|         3000.0|       453.26|               0.0|       0.0|                    0.0|    Feb-2017|        1117.63|        null|          Jul-2018|                         0|                       null|          1|      Individual|            null|     null|                     null|             0|           0|      22809|       null|       null|       null|       null|              null|        null|   null|       null|       null|      null|    null|           11600|  null|       null|        null|                   2|       3258|           552|   85.8|                       0|          0|               234|                 138|                   27|             3|       0|                  27|                      77|                 null|                            77|                    0|             2|              3|          2|        6|        6|            5|           12|                  3|       7|               0|           0|                 0|                 1|          77.8|           100.0|                   0|        0|          30454|            22809|          3900|                     18854|           null|                    null|                  null|            null|            null|              null|               null|                 null|                            null|                              null|                               null|            N|         null|           null|           null|         null|           null|               null|             null|                   null|           null|        null|                null|                                      null|                          null|                        null|                   N|                     null|             null|           null|             null|                 null|           null|\n",
      "|null|     null|     2000|       2000|           2000| 36 months|  14.99%|      69.33|    C|       C5|practice plan ass...|   8 years|          RENT|   32200.0|       Not Verified|Dec-2014| Fully Paid|         n|null|null|       credit_card|Credit card refin...|   112xx|        NY|22.14|          0|        Sep-1996|             0|                  null|                    95|      10|      1|     9544|     62.4%|       21|                  f|      0.0|          0.0|         2101.52|        2101.52|         2000.0|       101.52|               0.0|       0.0|                    0.0|    May-2015|        1897.69|        null|          Feb-2018|                         0|                       null|          1|      Individual|            null|     null|                     null|             0|           0|      20539|       null|       null|       null|       null|              null|        null|   null|       null|       null|      null|    null|           15300|  null|       null|        null|                   6|       2054|          3636|   72.2|                       0|          0|                27|                 219|                    8|             4|       0|                   8|                    null|                   14|                          null|                    0|             5|              6|          6|       10|        4|            8|           17|                  6|      10|               0|           0|                 0|                 4|         100.0|            83.3|                   1|        0|          27300|            20539|         13100|                     12000|           null|                    null|                  null|            null|            null|              null|               null|                 null|                            null|                              null|                               null|            N|         null|           null|           null|         null|           null|               null|             null|                   null|           null|        null|                null|                                      null|                          null|                        null|                   N|                     null|             null|           null|             null|                 null|           null|\n",
      "|null|     null|     4000|       4000|           4000| 36 months|  15.99%|     140.61|    D|       D2|    Accounting clerk|   9 years|          RENT|   50000.0|       Not Verified|Dec-2014| Fully Paid|         n|null|null|debt_consolidation|  Debt consolidation|   114xx|        NY|33.99|          0|        Mar-2002|             1|                    49|                  null|      12|      0|     5697|     65.5%|       23|                  f|      0.0|          0.0| 4972.6647952131|        4972.66|         4000.0|       957.66|              15.0|       0.0|                    0.0|    Feb-2017|         1606.9|        null|          Apr-2019|                         0|                         49|          1|      Individual|            null|     null|                     null|             0|           0|      36589|       null|       null|       null|       null|              null|        null|   null|       null|       null|      null|    null|            8700|  null|       null|        null|                   7|       3049|           321|   93.0|                       0|          0|                92|                 153|                   12|             6|       0|                  33|                      49|                    3|                            49|                    1|             3|              5|          3|        5|       12|            8|           10|                  5|      12|               0|           0|                 0|                 3|          91.3|           100.0|                   0|        0|          62433|            36589|          4600|                     48555|           null|                    null|                  null|            null|            null|              null|               null|                 null|                            null|                              null|                               null|            N|         null|           null|           null|         null|           null|               null|             null|                   null|           null|        null|                null|                                      null|                          null|                        null|                   N|                     null|             null|           null|             null|                 null|           null|\n",
      "|null|     null|    28000|      28000|          28000| 60 months|  10.49%|      601.7|    B|       B3|Humana Cares Manager|   2 years|      MORTGAGE|   67000.0|    Source Verified|Dec-2014| Fully Paid|         n|null|null|debt_consolidation|  Debt consolidation|   336xx|        FL|16.13|          0|        Aug-1994|             1|                    35|                  null|      15|      0|    14684|     35.2%|       39|                  w|      0.0|          0.0|        30628.65|       30628.65|        28000.0|      2628.65|               0.0|       0.0|                    0.0|    Dec-2015|       24652.44|        null|          Oct-2017|                         0|                       null|          1|      Individual|            null|     null|                     null|             0|           0|     239362|       null|       null|       null|       null|              null|        null|   null|       null|       null|      null|    null|           41700|  null|       null|        null|                   5|      21760|         17016|   46.3|                       0|          0|               181|                 244|                    1|             1|       2|                   1|                    null|                    1|                          null|                    0|             4|              4|          8|       12|        6|           12|           31|                  4|      15|               0|           0|                 0|                 1|          97.4|            14.3|                   0|        0|         283223|            33666|         31700|                     28532|           null|                    null|                  null|            null|            null|              null|               null|                 null|                            null|                              null|                               null|            N|         null|           null|           null|         null|           null|               null|             null|                   null|           null|        null|                null|                                      null|                          null|                        null|                   N|                     null|             null|           null|             null|                 null|           null|\n",
      "+----+---------+---------+-----------+---------------+----------+--------+-----------+-----+---------+--------------------+----------+--------------+----------+-------------------+--------+-----------+----------+----+----+------------------+--------------------+--------+----------+-----+-----------+----------------+--------------+----------------------+----------------------+--------+-------+---------+----------+---------+-------------------+---------+-------------+----------------+---------------+---------------+-------------+------------------+----------+-----------------------+------------+---------------+------------+------------------+--------------------------+---------------------------+-----------+----------------+----------------+---------+-------------------------+--------------+------------+-----------+-----------+-----------+-----------+-----------+------------------+------------+-------+-----------+-----------+----------+--------+----------------+------+-----------+------------+--------------------+-----------+--------------+-------+------------------------+-----------+------------------+--------------------+---------------------+--------------+--------+--------------------+------------------------+---------------------+------------------------------+---------------------+--------------+---------------+-----------+---------+---------+-------------+-------------+-------------------+--------+----------------+------------+------------------+------------------+--------------+----------------+--------------------+---------+---------------+-----------------+--------------+--------------------------+---------------+------------------------+----------------------+----------------+----------------+------------------+-------------------+---------------------+--------------------------------+----------------------------------+-----------------------------------+-------------+-------------+---------------+---------------+-------------+---------------+-------------------+-----------------+-----------------------+---------------+------------+--------------------+------------------------------------------+------------------------------+----------------------------+--------------------+-------------------------+-----------------+---------------+-----------------+---------------------+---------------+\n",
      "only showing top 20 rows\n",
      "\n"
     ]
    }
   ],
   "source": [
    "loan_stats.show()"
   ]
  },
  {
   "cell_type": "code",
   "execution_count": 64,
   "metadata": {},
   "outputs": [
    {
     "data": {
      "text/plain": [
       "235629"
      ]
     },
     "execution_count": 64,
     "metadata": {},
     "output_type": "execute_result"
    }
   ],
   "source": [
    "loan_stats.count()"
   ]
  },
  {
   "cell_type": "code",
   "execution_count": 66,
   "metadata": {},
   "outputs": [
    {
     "data": {
      "text/plain": [
       "144"
      ]
     },
     "execution_count": 66,
     "metadata": {},
     "output_type": "execute_result"
    }
   ],
   "source": [
    "len(loan_stats.columns)"
   ]
  },
  {
   "cell_type": "code",
   "execution_count": 68,
   "metadata": {},
   "outputs": [
    {
     "data": {
      "text/plain": [
       "DataFrame[id: string, member_id: string, loan_amnt: int, funded_amnt: int, funded_amnt_inv: int, term: string, int_rate: string, installment: double, grade: string, sub_grade: string, emp_title: string, emp_length: string, home_ownership: string, annual_inc: double, verification_status: string, issue_d: string, loan_status: string, pymnt_plan: string, url: string, desc: string, purpose: string, title: string, zip_code: string, addr_state: string, dti: double, delinq_2yrs: int, earliest_cr_line: string, inq_last_6mths: int, mths_since_last_delinq: int, mths_since_last_record: int, open_acc: int, pub_rec: int, revol_bal: int, revol_util: string, total_acc: int, initial_list_status: string, out_prncp: double, out_prncp_inv: double, total_pymnt: double, total_pymnt_inv: double, total_rec_prncp: double, total_rec_int: double, total_rec_late_fee: double, recoveries: double, collection_recovery_fee: double, last_pymnt_d: string, last_pymnt_amnt: double, next_pymnt_d: string, last_credit_pull_d: string, collections_12_mths_ex_med: int, mths_since_last_major_derog: int, policy_code: int, application_type: string, annual_inc_joint: string, dti_joint: string, verification_status_joint: string, acc_now_delinq: int, tot_coll_amt: int, tot_cur_bal: int, open_acc_6m: string, open_act_il: string, open_il_12m: string, open_il_24m: string, mths_since_rcnt_il: string, total_bal_il: string, il_util: string, open_rv_12m: string, open_rv_24m: string, max_bal_bc: string, all_util: string, total_rev_hi_lim: int, inq_fi: string, total_cu_tl: string, inq_last_12m: string, acc_open_past_24mths: int, avg_cur_bal: int, bc_open_to_buy: int, bc_util: double, chargeoff_within_12_mths: int, delinq_amnt: int, mo_sin_old_il_acct: int, mo_sin_old_rev_tl_op: int, mo_sin_rcnt_rev_tl_op: int, mo_sin_rcnt_tl: int, mort_acc: int, mths_since_recent_bc: int, mths_since_recent_bc_dlq: int, mths_since_recent_inq: int, mths_since_recent_revol_delinq: int, num_accts_ever_120_pd: int, num_actv_bc_tl: int, num_actv_rev_tl: int, num_bc_sats: int, num_bc_tl: int, num_il_tl: int, num_op_rev_tl: int, num_rev_accts: int, num_rev_tl_bal_gt_0: int, num_sats: int, num_tl_120dpd_2m: int, num_tl_30dpd: int, num_tl_90g_dpd_24m: int, num_tl_op_past_12m: int, pct_tl_nvr_dlq: double, percent_bc_gt_75: double, pub_rec_bankruptcies: int, tax_liens: int, tot_hi_cred_lim: int, total_bal_ex_mort: int, total_bc_limit: int, total_il_high_credit_limit: int, revol_bal_joint: string, sec_app_earliest_cr_line: string, sec_app_inq_last_6mths: string, sec_app_mort_acc: string, sec_app_open_acc: string, sec_app_revol_util: string, sec_app_open_act_il: string, sec_app_num_rev_accts: string, sec_app_chargeoff_within_12_mths: string, sec_app_collections_12_mths_ex_med: string, sec_app_mths_since_last_major_derog: string, hardship_flag: string, hardship_type: string, hardship_reason: string, hardship_status: string, deferral_term: int, hardship_amount: double, hardship_start_date: string, hardship_end_date: string, payment_plan_start_date: string, hardship_length: int, hardship_dpd: int, hardship_loan_status: string, orig_projected_additional_accrued_interest: double, hardship_payoff_balance_amount: double, hardship_last_payment_amount: double, debt_settlement_flag: string, debt_settlement_flag_date: string, settlement_status: string, settlement_date: string, settlement_amount: double, settlement_percentage: double, settlement_term: int]"
      ]
     },
     "execution_count": 68,
     "metadata": {},
     "output_type": "execute_result"
    }
   ],
   "source": [
    "loan_stats"
   ]
  },
  {
   "cell_type": "code",
   "execution_count": 7,
   "metadata": {},
   "outputs": [],
   "source": [
    "kv_loan = loan_stats.rdd.flatMap(lambda r: r.asDict().items())"
   ]
  },
  {
   "cell_type": "code",
   "execution_count": 8,
   "metadata": {},
   "outputs": [
    {
     "data": {
      "text/plain": [
       "[('verification_status_joint', 235629),\n",
       " ('sec_app_revol_util', 235629),\n",
       " ('hardship_loan_status', 235124),\n",
       " ('avg_cur_bal', 6),\n",
       " ('id', 235629),\n",
       " ('sec_app_num_rev_accts', 235629),\n",
       " ('sec_app_mths_since_last_major_derog', 235629),\n",
       " ('settlement_date', 231362),\n",
       " ('percent_bc_gt_75', 2557),\n",
       " ('sec_app_mort_acc', 235629),\n",
       " ('orig_projected_additional_accrued_interest', 235228),\n",
       " ('mths_since_last_delinq', 115881),\n",
       " ('revol_bal_joint', 235629),\n",
       " ('sec_app_chargeoff_within_12_mths', 235629),\n",
       " ('url', 235629),\n",
       " ('deferral_term', 235124),\n",
       " ('settlement_status', 231362),\n",
       " ('sec_app_inq_last_6mths', 235629),\n",
       " ('settlement_term', 231362),\n",
       " ('mths_since_last_major_derog', 169151),\n",
       " ('revol_util', 125),\n",
       " ('annual_inc_joint', 235629),\n",
       " ('il_util', 235629),\n",
       " ('inq_last_12m', 235629),\n",
       " ('hardship_dpd', 235124),\n",
       " ('debt_settlement_flag_date', 231362),\n",
       " ('dti_joint', 235629),\n",
       " ('open_act_il', 235629),\n",
       " ('inq_fi', 235629),\n",
       " ('sec_app_open_act_il', 235629),\n",
       " ('num_tl_120dpd_2m', 7860),\n",
       " ('mths_since_recent_bc', 2246),\n",
       " ('desc', 220350),\n",
       " ('mths_since_last_record', 194105),\n",
       " ('open_il_12m', 235629),\n",
       " ('hardship_reason', 235124),\n",
       " ('hardship_start_date', 235124),\n",
       " ('payment_plan_start_date', 235124),\n",
       " ('hardship_payoff_balance_amount', 235124),\n",
       " ('settlement_amount', 231362),\n",
       " ('mo_sin_old_il_acct', 7171),\n",
       " ('open_il_24m', 235629),\n",
       " ('mths_since_rcnt_il', 235629),\n",
       " ('sec_app_earliest_cr_line', 235629),\n",
       " ('sec_app_open_acc', 235629),\n",
       " ('sec_app_collections_12_mths_ex_med', 235629),\n",
       " ('hardship_end_date', 235124),\n",
       " ('bc_util', 2611),\n",
       " ('member_id', 235629),\n",
       " ('next_pymnt_d', 223995),\n",
       " ('hardship_status', 235124),\n",
       " ('mths_since_recent_bc_dlq', 173348),\n",
       " ('open_rv_12m', 235629),\n",
       " ('open_rv_24m', 235629),\n",
       " ('hardship_last_payment_amount', 235124),\n",
       " ('emp_title', 13234),\n",
       " ('open_acc_6m', 235629),\n",
       " ('total_bal_il', 235629),\n",
       " ('all_util', 235629),\n",
       " ('hardship_amount', 235124),\n",
       " ('settlement_percentage', 231362),\n",
       " ('mths_since_recent_inq', 21692),\n",
       " ('bc_open_to_buy', 2445),\n",
       " ('last_credit_pull_d', 26),\n",
       " ('max_bal_bc', 235629),\n",
       " ('hardship_length', 235124),\n",
       " ('last_pymnt_d', 143),\n",
       " ('total_cu_tl', 235629),\n",
       " ('hardship_type', 235124),\n",
       " ('mths_since_recent_revol_delinq', 150863)]"
      ]
     },
     "execution_count": 8,
     "metadata": {},
     "output_type": "execute_result"
    }
   ],
   "source": [
    "# print Missing Values\n",
    "kv_loan.filter(lambda kv: kv[1] is None).mapValues(lambda x: 1).reduceByKey(lambda x,y: x+y).collect()\n"
   ]
  },
  {
   "cell_type": "code",
   "execution_count": 72,
   "metadata": {},
   "outputs": [
    {
     "data": {
      "text/plain": [
       "[Row(loan_status='Charged Off'),\n",
       " Row(loan_status='Fully Paid'),\n",
       " Row(loan_status='Fully Paid'),\n",
       " Row(loan_status='Charged Off'),\n",
       " Row(loan_status='Current'),\n",
       " Row(loan_status='Fully Paid'),\n",
       " Row(loan_status='Fully Paid'),\n",
       " Row(loan_status='Charged Off'),\n",
       " Row(loan_status='Fully Paid'),\n",
       " Row(loan_status='Charged Off')]"
      ]
     },
     "execution_count": 72,
     "metadata": {},
     "output_type": "execute_result"
    }
   ],
   "source": [
    "loanstatus.take(10)"
   ]
  },
  {
   "cell_type": "code",
   "execution_count": 74,
   "metadata": {},
   "outputs": [],
   "source": [
    "loanstatus_vals = loanstatus.map(lambda r: (r['loan_status'], 1))"
   ]
  },
  {
   "cell_type": "code",
   "execution_count": 75,
   "metadata": {},
   "outputs": [
    {
     "data": {
      "text/plain": [
       "defaultdict(int,\n",
       "            {'Charged Off': 41201,\n",
       "             'Fully Paid': 182794,\n",
       "             'Current': 11097,\n",
       "             'Late (16-30 days)': 94,\n",
       "             'Late (31-120 days)': 307,\n",
       "             'Default': 6,\n",
       "             'In Grace Period': 130})"
      ]
     },
     "execution_count": 75,
     "metadata": {},
     "output_type": "execute_result"
    }
   ],
   "source": [
    "loanstatus_vals.countByKey()"
   ]
  },
  {
   "cell_type": "code",
   "execution_count": 11,
   "metadata": {},
   "outputs": [
    {
     "name": "stdout",
     "output_type": "stream",
     "text": [
      "+-----------+\n",
      "|loan_status|\n",
      "+-----------+\n",
      "|Charged Off|\n",
      "| Fully Paid|\n",
      "| Fully Paid|\n",
      "|Charged Off|\n",
      "|    Current|\n",
      "| Fully Paid|\n",
      "| Fully Paid|\n",
      "|Charged Off|\n",
      "| Fully Paid|\n",
      "|Charged Off|\n",
      "| Fully Paid|\n",
      "| Fully Paid|\n",
      "|Charged Off|\n",
      "|    Current|\n",
      "| Fully Paid|\n",
      "| Fully Paid|\n",
      "| Fully Paid|\n",
      "| Fully Paid|\n",
      "| Fully Paid|\n",
      "| Fully Paid|\n",
      "+-----------+\n",
      "only showing top 20 rows\n",
      "\n"
     ]
    }
   ],
   "source": [
    "loan_stats.select('loan_status').show()"
   ]
  },
  {
   "cell_type": "code",
   "execution_count": 68,
   "metadata": {},
   "outputs": [],
   "source": [
    "data_with_loanstatus = loan_stats.filter(\"loan_status == 'Fully Paid' or loan_status == 'Charged Off' \")"
   ]
  },
  {
   "cell_type": "code",
   "execution_count": 6,
   "metadata": {},
   "outputs": [],
   "source": [
    "Dataset_withBoolTarget = data_with_loanstatus.replace(['Fully Paid', 'Charged Off'], [False, True], 'loan_status')"
   ]
  },
  {
   "cell_type": "code",
   "execution_count": 9,
   "metadata": {},
   "outputs": [],
   "source": [
    "r = Dataset_withBoolTarget.select('loan_status')"
   ]
  },
  {
   "cell_type": "code",
   "execution_count": 10,
   "metadata": {},
   "outputs": [
    {
     "data": {
      "text/plain": [
       "[('false', 182794), ('true', 41201)]"
      ]
     },
     "execution_count": 10,
     "metadata": {},
     "output_type": "execute_result"
    }
   ],
   "source": [
    "r.rdd.map(lambda row: (row['loan_status'], 1)).reduceByKey(lambda x,y: x+y).collect()"
   ]
  },
  {
   "cell_type": "code",
   "execution_count": 40,
   "metadata": {},
   "outputs": [],
   "source": [
    "# # remove the columns with 95% of the data is not null\n",
    "# # 95% of 235631 is 223849 so we set the threshold according to that\n",
    "# dataset = Dataset_withBoolTarget.dropna(thresh = 223849) #223849 is minimum number of non-NA values\n"
   ]
  },
  {
   "cell_type": "code",
   "execution_count": 46,
   "metadata": {},
   "outputs": [
    {
     "data": {
      "text/plain": [
       "['id',\n",
       " 'member_id',\n",
       " 'loan_amnt',\n",
       " 'funded_amnt',\n",
       " 'funded_amnt_inv',\n",
       " 'term',\n",
       " 'int_rate',\n",
       " 'installment',\n",
       " 'grade',\n",
       " 'sub_grade',\n",
       " 'emp_title',\n",
       " 'emp_length',\n",
       " 'home_ownership',\n",
       " 'annual_inc',\n",
       " 'verification_status',\n",
       " 'issue_d',\n",
       " 'loan_status',\n",
       " 'pymnt_plan',\n",
       " 'url',\n",
       " 'desc',\n",
       " 'purpose',\n",
       " 'title',\n",
       " 'zip_code',\n",
       " 'addr_state',\n",
       " 'dti',\n",
       " 'delinq_2yrs',\n",
       " 'earliest_cr_line',\n",
       " 'inq_last_6mths',\n",
       " 'mths_since_last_delinq',\n",
       " 'mths_since_last_record',\n",
       " 'open_acc',\n",
       " 'pub_rec',\n",
       " 'revol_bal',\n",
       " 'revol_util',\n",
       " 'total_acc',\n",
       " 'initial_list_status',\n",
       " 'out_prncp',\n",
       " 'out_prncp_inv',\n",
       " 'total_pymnt',\n",
       " 'total_pymnt_inv',\n",
       " 'total_rec_prncp',\n",
       " 'total_rec_int',\n",
       " 'total_rec_late_fee',\n",
       " 'recoveries',\n",
       " 'collection_recovery_fee',\n",
       " 'last_pymnt_d',\n",
       " 'last_pymnt_amnt',\n",
       " 'next_pymnt_d',\n",
       " 'last_credit_pull_d',\n",
       " 'collections_12_mths_ex_med',\n",
       " 'mths_since_last_major_derog',\n",
       " 'policy_code',\n",
       " 'application_type',\n",
       " 'annual_inc_joint',\n",
       " 'dti_joint',\n",
       " 'verification_status_joint',\n",
       " 'acc_now_delinq',\n",
       " 'tot_coll_amt',\n",
       " 'tot_cur_bal',\n",
       " 'open_acc_6m',\n",
       " 'open_act_il',\n",
       " 'open_il_12m',\n",
       " 'open_il_24m',\n",
       " 'mths_since_rcnt_il',\n",
       " 'total_bal_il',\n",
       " 'il_util',\n",
       " 'open_rv_12m',\n",
       " 'open_rv_24m',\n",
       " 'max_bal_bc',\n",
       " 'all_util',\n",
       " 'total_rev_hi_lim',\n",
       " 'inq_fi',\n",
       " 'total_cu_tl',\n",
       " 'inq_last_12m',\n",
       " 'acc_open_past_24mths',\n",
       " 'avg_cur_bal',\n",
       " 'bc_open_to_buy',\n",
       " 'bc_util',\n",
       " 'chargeoff_within_12_mths',\n",
       " 'delinq_amnt',\n",
       " 'mo_sin_old_il_acct',\n",
       " 'mo_sin_old_rev_tl_op',\n",
       " 'mo_sin_rcnt_rev_tl_op',\n",
       " 'mo_sin_rcnt_tl',\n",
       " 'mort_acc',\n",
       " 'mths_since_recent_bc',\n",
       " 'mths_since_recent_bc_dlq',\n",
       " 'mths_since_recent_inq',\n",
       " 'mths_since_recent_revol_delinq',\n",
       " 'num_accts_ever_120_pd',\n",
       " 'num_actv_bc_tl',\n",
       " 'num_actv_rev_tl',\n",
       " 'num_bc_sats',\n",
       " 'num_bc_tl',\n",
       " 'num_il_tl',\n",
       " 'num_op_rev_tl',\n",
       " 'num_rev_accts',\n",
       " 'num_rev_tl_bal_gt_0',\n",
       " 'num_sats',\n",
       " 'num_tl_120dpd_2m',\n",
       " 'num_tl_30dpd',\n",
       " 'num_tl_90g_dpd_24m',\n",
       " 'num_tl_op_past_12m',\n",
       " 'pct_tl_nvr_dlq',\n",
       " 'percent_bc_gt_75',\n",
       " 'pub_rec_bankruptcies',\n",
       " 'tax_liens',\n",
       " 'tot_hi_cred_lim',\n",
       " 'total_bal_ex_mort',\n",
       " 'total_bc_limit',\n",
       " 'total_il_high_credit_limit',\n",
       " 'revol_bal_joint',\n",
       " 'sec_app_earliest_cr_line',\n",
       " 'sec_app_inq_last_6mths',\n",
       " 'sec_app_mort_acc',\n",
       " 'sec_app_open_acc',\n",
       " 'sec_app_revol_util',\n",
       " 'sec_app_open_act_il',\n",
       " 'sec_app_num_rev_accts',\n",
       " 'sec_app_chargeoff_within_12_mths',\n",
       " 'sec_app_collections_12_mths_ex_med',\n",
       " 'sec_app_mths_since_last_major_derog',\n",
       " 'hardship_flag',\n",
       " 'hardship_type',\n",
       " 'hardship_reason',\n",
       " 'hardship_status',\n",
       " 'deferral_term',\n",
       " 'hardship_amount',\n",
       " 'hardship_start_date',\n",
       " 'hardship_end_date',\n",
       " 'payment_plan_start_date',\n",
       " 'hardship_length',\n",
       " 'hardship_dpd',\n",
       " 'hardship_loan_status',\n",
       " 'orig_projected_additional_accrued_interest',\n",
       " 'hardship_payoff_balance_amount',\n",
       " 'hardship_last_payment_amount',\n",
       " 'debt_settlement_flag',\n",
       " 'debt_settlement_flag_date',\n",
       " 'settlement_status',\n",
       " 'settlement_date',\n",
       " 'settlement_amount',\n",
       " 'settlement_percentage',\n",
       " 'settlement_term']"
      ]
     },
     "execution_count": 46,
     "metadata": {},
     "output_type": "execute_result"
    }
   ],
   "source": [
    "Dataset_withBoolTarget.columns"
   ]
  },
  {
   "cell_type": "code",
   "execution_count": 69,
   "metadata": {},
   "outputs": [],
   "source": [
    "dataset = data_with_loanstatus"
   ]
  },
  {
   "cell_type": "code",
   "execution_count": 90,
   "metadata": {},
   "outputs": [],
   "source": [
    "# we have selected 15 features \n",
    "features = ['funded_amnt','annual_inc','home_ownership','grade',\n",
    "            \"last_pymnt_amnt\", \"mort_acc\", \"pub_rec\", \"int_rate\", \"open_acc\",\"num_actv_rev_tl\",\n",
    "            \"mo_sin_rcnt_rev_tl_op\",\"mo_sin_old_rev_tl_op\",\n",
    "            \"avg_cur_bal\",\"acc_open_past_24mths\",'loan_status'] \n",
    "\n",
    "Final_data = dataset[features] # 17 features with target var"
   ]
  },
  {
   "cell_type": "code",
   "execution_count": 91,
   "metadata": {},
   "outputs": [
    {
     "name": "stdout",
     "output_type": "stream",
     "text": [
      "+-----------+----------+--------------+-----+---------------+--------+-------+--------+--------+---------------+---------------------+--------------------+-----------+--------------------+-----------+\n",
      "|funded_amnt|annual_inc|home_ownership|grade|last_pymnt_amnt|mort_acc|pub_rec|int_rate|open_acc|num_actv_rev_tl|mo_sin_rcnt_rev_tl_op|mo_sin_old_rev_tl_op|avg_cur_bal|acc_open_past_24mths|loan_status|\n",
      "+-----------+----------+--------------+-----+---------------+--------+-------+--------+--------+---------------+---------------------+--------------------+-----------+--------------------+-----------+\n",
      "|      10400|   58000.0|      MORTGAGE|    A|         321.08|       1|      0|   6.99%|      17|              9|                    1|                 290|       9536|                   7|Charged Off|\n",
      "|      15000|   78000.0|          RENT|    C|       12017.81|       0|      0|  12.39%|       6|              4|                    1|                 244|      29828|                   5| Fully Paid|\n",
      "|       9600|   69000.0|          RENT|    C|        9338.58|       0|      0|  13.66%|      12|              7|                   23|                 265|       3214|                   8| Fully Paid|\n",
      "|       7650|   50000.0|          RENT|    C|           17.7|       0|      0|  13.66%|      11|              4|                    8|                 148|       5857|                   6|Charged Off|\n",
      "|      21425|   63800.0|          RENT|    D|       17813.19|       0|      0|  15.59%|      10|              4|                    7|                 136|       4232|                   4| Fully Paid|\n",
      "|      17000|   75000.0|      MORTGAGE|    C|       10888.01|       2|      0|  13.66%|       7|              3|                   21|                 167|      17456|                   2| Fully Paid|\n",
      "|      23325|   72000.0|          RENT|    C|         800.71|       6|      0|  14.31%|      14|              5|                   15|                 194|      39356|                   6|Charged Off|\n",
      "|       2500|   89000.0|      MORTGAGE|    B|        2294.26|       5|      0|  11.99%|       9|              4|                   24|                 148|      44136|                   6| Fully Paid|\n",
      "|      12975|   60000.0|          RENT|    D|           50.0|       0|      0|  17.86%|      11|              8|                    2|                 122|       1571|                   7|Charged Off|\n",
      "|       5250|   26000.0|          RENT|    B|           43.4|       0|      0|  11.44%|       8|              2|                   12|                  67|       1267|                   4| Fully Paid|\n",
      "|      16000|  109777.0|           OWN|    B|        4935.54|       2|      0|  11.44%|       7|              3|                   17|                 133|      53392|                   3| Fully Paid|\n",
      "|      10000|   90000.0|          RENT|    B|          332.1|       0|      0|  11.99%|       5|              5|                   40|                 124|       4745|                   0|Charged Off|\n",
      "|       2000|   37000.0|          RENT|    D|        1255.43|       0|      0|  15.99%|       9|              2|                    3|                 252|       2149|                   6| Fully Paid|\n",
      "|       6000|  120000.0|      MORTGAGE|    B|          578.3|       5|      0|  10.49%|      11|              8|                   15|                 305|      40153|                   5| Fully Paid|\n",
      "|       3000|   60000.0|          RENT|    B|        1117.63|       0|      0|  10.49%|       7|              3|                   27|                 138|       3258|                   2| Fully Paid|\n",
      "|       2000|   32200.0|          RENT|    C|        1897.69|       0|      1|  14.99%|      10|              6|                    8|                 219|       2054|                   6| Fully Paid|\n",
      "|       4000|   50000.0|          RENT|    D|         1606.9|       0|      0|  15.99%|      12|              5|                   12|                 153|       3049|                   7| Fully Paid|\n",
      "|      28000|   67000.0|      MORTGAGE|    B|       24652.44|       2|      0|  10.49%|      15|              4|                    1|                 244|      21760|                   5| Fully Paid|\n",
      "|       2000|   52000.0|          RENT|    C|         123.62|       0|      0|  14.31%|       3|              2|                    3|                  58|       1314|                   3| Fully Paid|\n",
      "|       2000|   21312.0|          RENT|    C|         1928.7|       1|      0|  12.99%|      14|              4|                   18|                 150|         57|                   3| Fully Paid|\n",
      "+-----------+----------+--------------+-----+---------------+--------+-------+--------+--------+---------------+---------------------+--------------------+-----------+--------------------+-----------+\n",
      "only showing top 20 rows\n",
      "\n"
     ]
    }
   ],
   "source": [
    "Final_data.show()"
   ]
  },
  {
   "cell_type": "code",
   "execution_count": 15,
   "metadata": {},
   "outputs": [
    {
     "name": "stdout",
     "output_type": "stream",
     "text": [
      "+--------+\n",
      "|int_rate|\n",
      "+--------+\n",
      "|   6.99%|\n",
      "|  12.39%|\n",
      "|  13.66%|\n",
      "|  13.66%|\n",
      "|  15.59%|\n",
      "|  13.66%|\n",
      "|  14.31%|\n",
      "|  11.99%|\n",
      "|  17.86%|\n",
      "|  11.44%|\n",
      "|  11.44%|\n",
      "|  11.99%|\n",
      "|  15.99%|\n",
      "|  10.49%|\n",
      "|  10.49%|\n",
      "|  14.99%|\n",
      "|  15.99%|\n",
      "|  10.49%|\n",
      "|  14.31%|\n",
      "|  12.99%|\n",
      "+--------+\n",
      "only showing top 20 rows\n",
      "\n"
     ]
    }
   ],
   "source": [
    "Final_data.select('int_rate').show()"
   ]
  },
  {
   "cell_type": "code",
   "execution_count": 92,
   "metadata": {},
   "outputs": [],
   "source": [
    "from pyspark.sql import Row"
   ]
  },
  {
   "cell_type": "code",
   "execution_count": 93,
   "metadata": {},
   "outputs": [],
   "source": [
    "def replacepercent(row):\n",
    "    d = row.asDict()\n",
    "    v = float(d['int_rate'][:-1])\n",
    "    d['int_rate'] = v\n",
    "    return Row(**d)"
   ]
  },
  {
   "cell_type": "code",
   "execution_count": 73,
   "metadata": {},
   "outputs": [
    {
     "data": {
      "text/plain": [
       "Row(acc_open_past_24mths=7, annual_inc=58000.0, avg_cur_bal=9536, funded_amnt=10400, grade='A', home_ownership='MORTGAGE', int_rate=6.99, last_pymnt_amnt=321.08, loan_status='Charged Off', mo_sin_old_rev_tl_op=290, mo_sin_rcnt_rev_tl_op=1, mort_acc=1, num_actv_rev_tl=9, open_acc=17, pub_rec=0)"
      ]
     },
     "execution_count": 73,
     "metadata": {},
     "output_type": "execute_result"
    }
   ],
   "source": [
    "# Test the function\n",
    "rows = Final_data.rdd.take(10)\n",
    "replacepercent(rows[0])"
   ]
  },
  {
   "cell_type": "code",
   "execution_count": 94,
   "metadata": {},
   "outputs": [],
   "source": [
    "Final_data = Final_data.rdd.map(replacepercent).toDF()"
   ]
  },
  {
   "cell_type": "code",
   "execution_count": 16,
   "metadata": {},
   "outputs": [
    {
     "name": "stdout",
     "output_type": "stream",
     "text": [
      "+--------------------+----------+-----------+-----------+-----+--------------+--------+---------------+-----------+--------------------+---------------------+--------+---------------+--------+-------+\n",
      "|acc_open_past_24mths|annual_inc|avg_cur_bal|funded_amnt|grade|home_ownership|int_rate|last_pymnt_amnt|loan_status|mo_sin_old_rev_tl_op|mo_sin_rcnt_rev_tl_op|mort_acc|num_actv_rev_tl|open_acc|pub_rec|\n",
      "+--------------------+----------+-----------+-----------+-----+--------------+--------+---------------+-----------+--------------------+---------------------+--------+---------------+--------+-------+\n",
      "|                   7|   58000.0|       9536|      10400|    A|      MORTGAGE|    6.99|         321.08|       true|                 290|                    1|       1|              9|      17|      0|\n",
      "|                   5|   78000.0|      29828|      15000|    C|          RENT|   12.39|       12017.81|      false|                 244|                    1|       0|              4|       6|      0|\n",
      "|                   8|   69000.0|       3214|       9600|    C|          RENT|   13.66|        9338.58|      false|                 265|                   23|       0|              7|      12|      0|\n",
      "|                   6|   50000.0|       5857|       7650|    C|          RENT|   13.66|           17.7|       true|                 148|                    8|       0|              4|      11|      0|\n",
      "|                   4|   63800.0|       4232|      21425|    D|          RENT|   15.59|       17813.19|      false|                 136|                    7|       0|              4|      10|      0|\n",
      "|                   2|   75000.0|      17456|      17000|    C|      MORTGAGE|   13.66|       10888.01|      false|                 167|                   21|       2|              3|       7|      0|\n",
      "|                   6|   72000.0|      39356|      23325|    C|          RENT|   14.31|         800.71|       true|                 194|                   15|       6|              5|      14|      0|\n",
      "|                   6|   89000.0|      44136|       2500|    B|      MORTGAGE|   11.99|        2294.26|      false|                 148|                   24|       5|              4|       9|      0|\n",
      "|                   7|   60000.0|       1571|      12975|    D|          RENT|   17.86|           50.0|       true|                 122|                    2|       0|              8|      11|      0|\n",
      "|                   4|   26000.0|       1267|       5250|    B|          RENT|   11.44|           43.4|      false|                  67|                   12|       0|              2|       8|      0|\n",
      "|                   3|  109777.0|      53392|      16000|    B|           OWN|   11.44|        4935.54|      false|                 133|                   17|       2|              3|       7|      0|\n",
      "|                   0|   90000.0|       4745|      10000|    B|          RENT|   11.99|          332.1|       true|                 124|                   40|       0|              5|       5|      0|\n",
      "|                   6|   37000.0|       2149|       2000|    D|          RENT|   15.99|        1255.43|      false|                 252|                    3|       0|              2|       9|      0|\n",
      "|                   5|  120000.0|      40153|       6000|    B|      MORTGAGE|   10.49|          578.3|      false|                 305|                   15|       5|              8|      11|      0|\n",
      "|                   2|   60000.0|       3258|       3000|    B|          RENT|   10.49|        1117.63|      false|                 138|                   27|       0|              3|       7|      0|\n",
      "|                   6|   32200.0|       2054|       2000|    C|          RENT|   14.99|        1897.69|      false|                 219|                    8|       0|              6|      10|      1|\n",
      "|                   7|   50000.0|       3049|       4000|    D|          RENT|   15.99|         1606.9|      false|                 153|                   12|       0|              5|      12|      0|\n",
      "|                   5|   67000.0|      21760|      28000|    B|      MORTGAGE|   10.49|       24652.44|      false|                 244|                    1|       2|              4|      15|      0|\n",
      "|                   3|   52000.0|       1314|       2000|    C|          RENT|   14.31|         123.62|      false|                  58|                    3|       0|              2|       3|      0|\n",
      "|                   3|   21312.0|         57|       2000|    C|          RENT|   12.99|         1928.7|      false|                 150|                   18|       1|              4|      14|      0|\n",
      "+--------------------+----------+-----------+-----------+-----+--------------+--------+---------------+-----------+--------------------+---------------------+--------+---------------+--------+-------+\n",
      "only showing top 20 rows\n",
      "\n"
     ]
    }
   ],
   "source": [
    "Final_data.show()"
   ]
  },
  {
   "cell_type": "code",
   "execution_count": 26,
   "metadata": {},
   "outputs": [
    {
     "name": "stdout",
     "output_type": "stream",
     "text": [
      "root\n",
      " |-- funded_amnt: integer (nullable = true)\n",
      " |-- annual_inc: double (nullable = true)\n",
      " |-- home_ownership: string (nullable = true)\n",
      " |-- grade: string (nullable = true)\n",
      " |-- last_pymnt_amnt: double (nullable = true)\n",
      " |-- mort_acc: integer (nullable = true)\n",
      " |-- pub_rec: integer (nullable = true)\n",
      " |-- int_rate: string (nullable = true)\n",
      " |-- open_acc: integer (nullable = true)\n",
      " |-- num_actv_rev_tl: integer (nullable = true)\n",
      " |-- mo_sin_rcnt_rev_tl_op: integer (nullable = true)\n",
      " |-- mo_sin_old_rev_tl_op: integer (nullable = true)\n",
      " |-- avg_cur_bal: integer (nullable = true)\n",
      " |-- acc_open_past_24mths: integer (nullable = true)\n",
      " |-- loan_status: string (nullable = true)\n",
      "\n"
     ]
    }
   ],
   "source": [
    "Final_data.printSchema()"
   ]
  },
  {
   "cell_type": "code",
   "execution_count": 17,
   "metadata": {},
   "outputs": [],
   "source": [
    "def df_value_counts(df, col):\n",
    "    return df.rdd.map(lambda row: (row[col], 1)).reduceByKey(lambda x,y: x+y).sortBy(lambda x: -x[1]).collect()"
   ]
  },
  {
   "cell_type": "code",
   "execution_count": 18,
   "metadata": {},
   "outputs": [
    {
     "data": {
      "text/plain": [
       "[('MORTGAGE', 113148), ('RENT', 88933), ('OWN', 21913), ('ANY', 1)]"
      ]
     },
     "execution_count": 18,
     "metadata": {},
     "output_type": "execute_result"
    }
   ],
   "source": [
    "df_value_counts(Final_data, 'home_ownership')"
   ]
  },
  {
   "cell_type": "code",
   "execution_count": 93,
   "metadata": {},
   "outputs": [
    {
     "data": {
      "text/plain": [
       "[('C', 62823),\n",
       " ('B', 60028),\n",
       " ('D', 39596),\n",
       " ('A', 35881),\n",
       " ('E', 18370),\n",
       " ('F', 5765),\n",
       " ('G', 1532)]"
      ]
     },
     "execution_count": 93,
     "metadata": {},
     "output_type": "execute_result"
    }
   ],
   "source": [
    "df_value_counts(Final_data, 'grade')"
   ]
  },
  {
   "cell_type": "code",
   "execution_count": 95,
   "metadata": {},
   "outputs": [],
   "source": [
    "def replace_row(row, repdict):\n",
    "    d = row.asDict()\n",
    "    for k, torep in repdict.items():\n",
    "        if k in d:\n",
    "            d[k] = torep[d[k]]\n",
    "    return Row(**d)\n",
    "\n",
    "def df_replace(df, repdict):\n",
    "    return df.rdd.map(lambda r: replace_row(r, repdict))"
   ]
  },
  {
   "cell_type": "code",
   "execution_count": 96,
   "metadata": {},
   "outputs": [],
   "source": [
    "Final_data = df_replace(Final_data, { 'grade': {'A':7,'B':6,'C':5,'D':4,'E':3,'F':2,'G':1}, 'home_ownership': {\"MORTGAGE\":4,\"RENT\":3,\"OWN\":2,\"ANY\":1}, 'loan_status': {'Fully Paid':0.0, 'Charged Off':1.0}})"
   ]
  },
  {
   "cell_type": "code",
   "execution_count": 97,
   "metadata": {},
   "outputs": [],
   "source": [
    "Final_data = Final_data.toDF()"
   ]
  },
  {
   "cell_type": "code",
   "execution_count": 78,
   "metadata": {},
   "outputs": [
    {
     "name": "stdout",
     "output_type": "stream",
     "text": [
      "+--------------------+----------+-----------+-----------+-----+--------------+--------+---------------+-----------+--------------------+---------------------+--------+---------------+--------+-------+\n",
      "|acc_open_past_24mths|annual_inc|avg_cur_bal|funded_amnt|grade|home_ownership|int_rate|last_pymnt_amnt|loan_status|mo_sin_old_rev_tl_op|mo_sin_rcnt_rev_tl_op|mort_acc|num_actv_rev_tl|open_acc|pub_rec|\n",
      "+--------------------+----------+-----------+-----------+-----+--------------+--------+---------------+-----------+--------------------+---------------------+--------+---------------+--------+-------+\n",
      "|                   7|   58000.0|       9536|      10400|    7|             4|    6.99|         321.08|          1|                 290|                    1|       1|              9|      17|      0|\n",
      "|                   5|   78000.0|      29828|      15000|    5|             3|   12.39|       12017.81|          0|                 244|                    1|       0|              4|       6|      0|\n",
      "|                   8|   69000.0|       3214|       9600|    5|             3|   13.66|        9338.58|          0|                 265|                   23|       0|              7|      12|      0|\n",
      "|                   6|   50000.0|       5857|       7650|    5|             3|   13.66|           17.7|          1|                 148|                    8|       0|              4|      11|      0|\n",
      "|                   4|   63800.0|       4232|      21425|    4|             3|   15.59|       17813.19|          0|                 136|                    7|       0|              4|      10|      0|\n",
      "|                   2|   75000.0|      17456|      17000|    5|             4|   13.66|       10888.01|          0|                 167|                   21|       2|              3|       7|      0|\n",
      "|                   6|   72000.0|      39356|      23325|    5|             3|   14.31|         800.71|          1|                 194|                   15|       6|              5|      14|      0|\n",
      "|                   6|   89000.0|      44136|       2500|    6|             4|   11.99|        2294.26|          0|                 148|                   24|       5|              4|       9|      0|\n",
      "|                   7|   60000.0|       1571|      12975|    4|             3|   17.86|           50.0|          1|                 122|                    2|       0|              8|      11|      0|\n",
      "|                   4|   26000.0|       1267|       5250|    6|             3|   11.44|           43.4|          0|                  67|                   12|       0|              2|       8|      0|\n",
      "|                   3|  109777.0|      53392|      16000|    6|             2|   11.44|        4935.54|          0|                 133|                   17|       2|              3|       7|      0|\n",
      "|                   0|   90000.0|       4745|      10000|    6|             3|   11.99|          332.1|          1|                 124|                   40|       0|              5|       5|      0|\n",
      "|                   6|   37000.0|       2149|       2000|    4|             3|   15.99|        1255.43|          0|                 252|                    3|       0|              2|       9|      0|\n",
      "|                   5|  120000.0|      40153|       6000|    6|             4|   10.49|          578.3|          0|                 305|                   15|       5|              8|      11|      0|\n",
      "|                   2|   60000.0|       3258|       3000|    6|             3|   10.49|        1117.63|          0|                 138|                   27|       0|              3|       7|      0|\n",
      "|                   6|   32200.0|       2054|       2000|    5|             3|   14.99|        1897.69|          0|                 219|                    8|       0|              6|      10|      1|\n",
      "|                   7|   50000.0|       3049|       4000|    4|             3|   15.99|         1606.9|          0|                 153|                   12|       0|              5|      12|      0|\n",
      "|                   5|   67000.0|      21760|      28000|    6|             4|   10.49|       24652.44|          0|                 244|                    1|       2|              4|      15|      0|\n",
      "|                   3|   52000.0|       1314|       2000|    5|             3|   14.31|         123.62|          0|                  58|                    3|       0|              2|       3|      0|\n",
      "|                   3|   21312.0|         57|       2000|    5|             3|   12.99|         1928.7|          0|                 150|                   18|       1|              4|      14|      0|\n",
      "+--------------------+----------+-----------+-----------+-----+--------------+--------+---------------+-----------+--------------------+---------------------+--------+---------------+--------+-------+\n",
      "only showing top 20 rows\n",
      "\n"
     ]
    }
   ],
   "source": [
    "Final_data.show()"
   ]
  },
  {
   "cell_type": "code",
   "execution_count": 79,
   "metadata": {},
   "outputs": [
    {
     "name": "stdout",
     "output_type": "stream",
     "text": [
      "root\n",
      " |-- acc_open_past_24mths: long (nullable = true)\n",
      " |-- annual_inc: double (nullable = true)\n",
      " |-- avg_cur_bal: long (nullable = true)\n",
      " |-- funded_amnt: long (nullable = true)\n",
      " |-- grade: long (nullable = true)\n",
      " |-- home_ownership: long (nullable = true)\n",
      " |-- int_rate: double (nullable = true)\n",
      " |-- last_pymnt_amnt: double (nullable = true)\n",
      " |-- loan_status: long (nullable = true)\n",
      " |-- mo_sin_old_rev_tl_op: long (nullable = true)\n",
      " |-- mo_sin_rcnt_rev_tl_op: long (nullable = true)\n",
      " |-- mort_acc: long (nullable = true)\n",
      " |-- num_actv_rev_tl: long (nullable = true)\n",
      " |-- open_acc: long (nullable = true)\n",
      " |-- pub_rec: long (nullable = true)\n",
      "\n"
     ]
    }
   ],
   "source": [
    "Final_data.printSchema()"
   ]
  },
  {
   "cell_type": "code",
   "execution_count": 98,
   "metadata": {},
   "outputs": [],
   "source": [
    "from pyspark.mllib.linalg import Vectors\n",
    "from pyspark.ml.feature import VectorAssembler\n",
    "\n",
    "assembler = VectorAssembler(\n",
    "    inputCols=['acc_open_past_24mths', 'annual_inc', 'avg_cur_bal', 'funded_amnt', 'grade', 'home_ownership', 'int_rate', 'last_pymnt_amnt', 'mo_sin_old_rev_tl_op', 'mo_sin_rcnt_rev_tl_op', 'mort_acc', 'num_actv_rev_tl', 'open_acc', 'pub_rec'],\n",
    "    outputCol=\"features\")"
   ]
  },
  {
   "cell_type": "code",
   "execution_count": 107,
   "metadata": {},
   "outputs": [],
   "source": [
    "Final_data = Final_data.fillna(0)"
   ]
  },
  {
   "cell_type": "code",
   "execution_count": 108,
   "metadata": {},
   "outputs": [],
   "source": [
    "output = assembler.transform(Final_data)"
   ]
  },
  {
   "cell_type": "code",
   "execution_count": 82,
   "metadata": {},
   "outputs": [
    {
     "name": "stdout",
     "output_type": "stream",
     "text": [
      "+--------------------+----------+-----------+-----------+-----+--------------+--------+---------------+-----------+--------------------+---------------------+--------+---------------+--------+-------+--------------------+\n",
      "|acc_open_past_24mths|annual_inc|avg_cur_bal|funded_amnt|grade|home_ownership|int_rate|last_pymnt_amnt|loan_status|mo_sin_old_rev_tl_op|mo_sin_rcnt_rev_tl_op|mort_acc|num_actv_rev_tl|open_acc|pub_rec|            features|\n",
      "+--------------------+----------+-----------+-----------+-----+--------------+--------+---------------+-----------+--------------------+---------------------+--------+---------------+--------+-------+--------------------+\n",
      "|                   7|   58000.0|       9536|      10400|    7|             4|    6.99|         321.08|          1|                 290|                    1|       1|              9|      17|      0|[7.0,58000.0,9536...|\n",
      "|                   5|   78000.0|      29828|      15000|    5|             3|   12.39|       12017.81|          0|                 244|                    1|       0|              4|       6|      0|[5.0,78000.0,2982...|\n",
      "|                   8|   69000.0|       3214|       9600|    5|             3|   13.66|        9338.58|          0|                 265|                   23|       0|              7|      12|      0|[8.0,69000.0,3214...|\n",
      "|                   6|   50000.0|       5857|       7650|    5|             3|   13.66|           17.7|          1|                 148|                    8|       0|              4|      11|      0|[6.0,50000.0,5857...|\n",
      "|                   4|   63800.0|       4232|      21425|    4|             3|   15.59|       17813.19|          0|                 136|                    7|       0|              4|      10|      0|[4.0,63800.0,4232...|\n",
      "|                   2|   75000.0|      17456|      17000|    5|             4|   13.66|       10888.01|          0|                 167|                   21|       2|              3|       7|      0|[2.0,75000.0,1745...|\n",
      "|                   6|   72000.0|      39356|      23325|    5|             3|   14.31|         800.71|          1|                 194|                   15|       6|              5|      14|      0|[6.0,72000.0,3935...|\n",
      "|                   6|   89000.0|      44136|       2500|    6|             4|   11.99|        2294.26|          0|                 148|                   24|       5|              4|       9|      0|[6.0,89000.0,4413...|\n",
      "|                   7|   60000.0|       1571|      12975|    4|             3|   17.86|           50.0|          1|                 122|                    2|       0|              8|      11|      0|[7.0,60000.0,1571...|\n",
      "|                   4|   26000.0|       1267|       5250|    6|             3|   11.44|           43.4|          0|                  67|                   12|       0|              2|       8|      0|[4.0,26000.0,1267...|\n",
      "|                   3|  109777.0|      53392|      16000|    6|             2|   11.44|        4935.54|          0|                 133|                   17|       2|              3|       7|      0|[3.0,109777.0,533...|\n",
      "|                   0|   90000.0|       4745|      10000|    6|             3|   11.99|          332.1|          1|                 124|                   40|       0|              5|       5|      0|[0.0,90000.0,4745...|\n",
      "|                   6|   37000.0|       2149|       2000|    4|             3|   15.99|        1255.43|          0|                 252|                    3|       0|              2|       9|      0|[6.0,37000.0,2149...|\n",
      "|                   5|  120000.0|      40153|       6000|    6|             4|   10.49|          578.3|          0|                 305|                   15|       5|              8|      11|      0|[5.0,120000.0,401...|\n",
      "|                   2|   60000.0|       3258|       3000|    6|             3|   10.49|        1117.63|          0|                 138|                   27|       0|              3|       7|      0|[2.0,60000.0,3258...|\n",
      "|                   6|   32200.0|       2054|       2000|    5|             3|   14.99|        1897.69|          0|                 219|                    8|       0|              6|      10|      1|[6.0,32200.0,2054...|\n",
      "|                   7|   50000.0|       3049|       4000|    4|             3|   15.99|         1606.9|          0|                 153|                   12|       0|              5|      12|      0|[7.0,50000.0,3049...|\n",
      "|                   5|   67000.0|      21760|      28000|    6|             4|   10.49|       24652.44|          0|                 244|                    1|       2|              4|      15|      0|[5.0,67000.0,2176...|\n",
      "|                   3|   52000.0|       1314|       2000|    5|             3|   14.31|         123.62|          0|                  58|                    3|       0|              2|       3|      0|[3.0,52000.0,1314...|\n",
      "|                   3|   21312.0|         57|       2000|    5|             3|   12.99|         1928.7|          0|                 150|                   18|       1|              4|      14|      0|[3.0,21312.0,57.0...|\n",
      "+--------------------+----------+-----------+-----------+-----+--------------+--------+---------------+-----------+--------------------+---------------------+--------+---------------+--------+-------+--------------------+\n",
      "only showing top 20 rows\n",
      "\n"
     ]
    }
   ],
   "source": [
    "output.show()"
   ]
  },
  {
   "cell_type": "code",
   "execution_count": 109,
   "metadata": {},
   "outputs": [],
   "source": [
    "# seperate the independent and target variable\n",
    "(training, test)  = output.randomSplit([.7, .3])"
   ]
  },
  {
   "cell_type": "code",
   "execution_count": 52,
   "metadata": {},
   "outputs": [],
   "source": [
    "# # seperate the independent and target variable\n",
    "# train_x  = training.drop('loan_status')\n",
    "# train_y  = training.select('loan_status')\n",
    "\n",
    "# # seperate the independent and target variable\n",
    "# test_x  = test.drop('loan_status')\n",
    "# test_y  = test.select('loan_status')\n"
   ]
  },
  {
   "cell_type": "code",
   "execution_count": 110,
   "metadata": {},
   "outputs": [],
   "source": [
    "from pyspark.ml import Pipeline\n",
    "from pyspark.ml.classification import RandomForestClassifier\n",
    "from pyspark.ml.feature import IndexToString, StringIndexer, VectorIndexer\n",
    "from pyspark.ml.evaluation import MulticlassClassificationEvaluator"
   ]
  },
  {
   "cell_type": "code",
   "execution_count": 123,
   "metadata": {},
   "outputs": [],
   "source": [
    "rf = RandomForestClassifier(labelCol=\"loan_status\", featuresCol=\"features\", numTrees=20)"
   ]
  },
  {
   "cell_type": "code",
   "execution_count": 124,
   "metadata": {},
   "outputs": [],
   "source": [
    "model = rf.fit(training)"
   ]
  },
  {
   "cell_type": "code",
   "execution_count": 125,
   "metadata": {},
   "outputs": [],
   "source": [
    "predictions = model.transform(test)"
   ]
  },
  {
   "cell_type": "code",
   "execution_count": 115,
   "metadata": {},
   "outputs": [
    {
     "name": "stdout",
     "output_type": "stream",
     "text": [
      "+----------+-----------+\n",
      "|prediction|loan_status|\n",
      "+----------+-----------+\n",
      "|       0.0|        0.0|\n",
      "|       0.0|        0.0|\n",
      "|       0.0|        0.0|\n",
      "|       0.0|        0.0|\n",
      "|       0.0|        1.0|\n",
      "|       0.0|        0.0|\n",
      "|       0.0|        0.0|\n",
      "|       0.0|        0.0|\n",
      "|       0.0|        0.0|\n",
      "|       0.0|        0.0|\n",
      "|       0.0|        0.0|\n",
      "|       0.0|        0.0|\n",
      "|       0.0|        0.0|\n",
      "|       1.0|        1.0|\n",
      "|       0.0|        0.0|\n",
      "|       0.0|        1.0|\n",
      "|       0.0|        0.0|\n",
      "|       0.0|        1.0|\n",
      "|       0.0|        1.0|\n",
      "|       1.0|        1.0|\n",
      "+----------+-----------+\n",
      "only showing top 20 rows\n",
      "\n"
     ]
    }
   ],
   "source": [
    "predictions.select('prediction', 'loan_status').show()"
   ]
  },
  {
   "cell_type": "code",
   "execution_count": 116,
   "metadata": {},
   "outputs": [
    {
     "data": {
      "text/plain": [
       "SparseVector(14, {0: 0.0083, 1: 0.0042, 2: 0.0026, 3: 0.0536, 4: 0.0507, 5: 0.0003, 6: 0.1746, 7: 0.7012, 8: 0.0008, 9: 0.0002, 10: 0.0014, 11: 0.0008, 12: 0.0012, 13: 0.0})"
      ]
     },
     "execution_count": 116,
     "metadata": {},
     "output_type": "execute_result"
    }
   ],
   "source": [
    "model.featureImportances"
   ]
  },
  {
   "cell_type": "code",
   "execution_count": 126,
   "metadata": {},
   "outputs": [],
   "source": [
    "from pyspark.ml.evaluation import MulticlassClassificationEvaluator\n",
    "\n",
    "evaluator = MulticlassClassificationEvaluator(\n",
    "    labelCol=\"loan_status\", predictionCol=\"prediction\", metricName=\"accuracy\")\n",
    "accuracy = evaluator.evaluate(predictions)"
   ]
  },
  {
   "cell_type": "code",
   "execution_count": 127,
   "metadata": {},
   "outputs": [
    {
     "data": {
      "text/plain": [
       "0.8674460431654676"
      ]
     },
     "execution_count": 127,
     "metadata": {},
     "output_type": "execute_result"
    }
   ],
   "source": [
    "accuracy"
   ]
  },
  {
   "cell_type": "code",
   "execution_count": 128,
   "metadata": {},
   "outputs": [],
   "source": [
    "evaluator = MulticlassClassificationEvaluator(\n",
    "    labelCol=\"loan_status\", predictionCol=\"prediction\", metricName=\"f1\")\n",
    "f1 = evaluator.evaluate(predictions)"
   ]
  },
  {
   "cell_type": "code",
   "execution_count": 129,
   "metadata": {},
   "outputs": [
    {
     "data": {
      "text/plain": [
       "0.8521044419199632"
      ]
     },
     "execution_count": 129,
     "metadata": {},
     "output_type": "execute_result"
    }
   ],
   "source": [
    "f1"
   ]
  },
  {
   "cell_type": "code",
   "execution_count": null,
   "metadata": {},
   "outputs": [],
   "source": []
  }
 ],
 "metadata": {
  "kernelspec": {
   "display_name": "Python 3",
   "language": "python",
   "name": "python3"
  },
  "language_info": {
   "codemirror_mode": {
    "name": "ipython",
    "version": 3
   },
   "file_extension": ".py",
   "mimetype": "text/x-python",
   "name": "python",
   "nbconvert_exporter": "python",
   "pygments_lexer": "ipython3",
   "version": "3.6.8"
  },
  "toc": {
   "base_numbering": 1,
   "nav_menu": {},
   "number_sections": true,
   "sideBar": true,
   "skip_h1_title": false,
   "title_cell": "Table of Contents",
   "title_sidebar": "Contents",
   "toc_cell": false,
   "toc_position": {},
   "toc_section_display": true,
   "toc_window_display": false
  }
 },
 "nbformat": 4,
 "nbformat_minor": 2
}
